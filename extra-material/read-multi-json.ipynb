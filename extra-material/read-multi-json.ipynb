{
 "cells": [
  {
   "cell_type": "markdown",
   "id": "indian-hawaii",
   "metadata": {},
   "source": [
    "### How to read in multiple files using pandas"
   ]
  },
  {
   "cell_type": "code",
   "execution_count": null,
   "id": "opposite-content",
   "metadata": {},
   "outputs": [],
   "source": [
    "# data source: https://www.gharchive.org/"
   ]
  },
  {
   "cell_type": "code",
   "execution_count": 1,
   "id": "adjusted-adoption",
   "metadata": {},
   "outputs": [],
   "source": [
    "# some useful libraries\n",
    "import json\n",
    "import os\n",
    "import pandas as pd"
   ]
  },
  {
   "cell_type": "markdown",
   "id": "worthy-interpretation",
   "metadata": {},
   "source": [
    "We use the bang ! to write some bash code and download the json files from the web."
   ]
  },
  {
   "cell_type": "code",
   "execution_count": 20,
   "id": "automatic-dakota",
   "metadata": {
    "collapsed": true
   },
   "outputs": [
    {
     "name": "stdout",
     "output_type": "stream",
     "text": [
      "--2021-04-26 23:09:11--  https://data.gharchive.org/2015-01-01-15.json.gz\n",
      "Resolving data.gharchive.org (data.gharchive.org)... 104.21.46.175, 172.67.168.206\n",
      "Connecting to data.gharchive.org (data.gharchive.org)|104.21.46.175|:443... connected.\n",
      "HTTP request sent, awaiting response... 200 OK\n",
      "Length: 3844072 (3.7M) [application/gzip]\n",
      "Saving to: ‘2015-01-01-15.json.gz’\n",
      "\n",
      "2015-01-01-15.json. 100%[===================>]   3.67M  15.7MB/s    in 0.2s    \n",
      "\n",
      "2021-04-26 23:09:11 (15.7 MB/s) - ‘2015-01-01-15.json.gz’ saved [3844072/3844072]\n",
      "\n",
      "--2021-04-26 23:09:11--  https://data.gharchive.org/2015-01-01-16.json.gz\n",
      "Resolving data.gharchive.org (data.gharchive.org)... 104.21.46.175, 172.67.168.206\n",
      "Connecting to data.gharchive.org (data.gharchive.org)|104.21.46.175|:443... connected.\n",
      "HTTP request sent, awaiting response... 200 OK\n",
      "Length: 3928231 (3.7M) [application/gzip]\n",
      "Saving to: ‘2015-01-01-16.json.gz’\n",
      "\n",
      "2015-01-01-16.json. 100%[===================>]   3.75M  15.9MB/s    in 0.2s    \n",
      "\n",
      "2021-04-26 23:09:12 (15.9 MB/s) - ‘2015-01-01-16.json.gz’ saved [3928231/3928231]\n",
      "\n",
      "--2021-04-26 23:09:12--  https://data.gharchive.org/2015-01-01-17.json.gz\n",
      "Resolving data.gharchive.org (data.gharchive.org)... 104.21.46.175, 172.67.168.206\n",
      "Connecting to data.gharchive.org (data.gharchive.org)|104.21.46.175|:443... connected.\n",
      "HTTP request sent, awaiting response... 200 OK\n",
      "Length: 4268646 (4.1M) [application/gzip]\n",
      "Saving to: ‘2015-01-01-17.json.gz’\n",
      "\n",
      "2015-01-01-17.json. 100%[===================>]   4.07M  15.6MB/s    in 0.3s    \n",
      "\n",
      "2021-04-26 23:09:12 (15.6 MB/s) - ‘2015-01-01-17.json.gz’ saved [4268646/4268646]\n",
      "\n",
      "--2021-04-26 23:09:12--  https://data.gharchive.org/2015-01-01-18.json.gz\n",
      "Resolving data.gharchive.org (data.gharchive.org)... 104.21.46.175, 172.67.168.206\n",
      "Connecting to data.gharchive.org (data.gharchive.org)|104.21.46.175|:443... connected.\n",
      "HTTP request sent, awaiting response... 200 OK\n",
      "Length: 4553250 (4.3M) [application/gzip]\n",
      "Saving to: ‘2015-01-01-18.json.gz’\n",
      "\n",
      "2015-01-01-18.json. 100%[===================>]   4.34M  18.0MB/s    in 0.2s    \n",
      "\n",
      "2021-04-26 23:09:13 (18.0 MB/s) - ‘2015-01-01-18.json.gz’ saved [4553250/4553250]\n",
      "\n"
     ]
    }
   ],
   "source": [
    "! wget  https://data.gharchive.org/2015-01-01-15.json.gz\n",
    "! wget  https://data.gharchive.org/2015-01-01-16.json.gz\n",
    "! wget  https://data.gharchive.org/2015-01-01-17.json.gz\n",
    "! wget  https://data.gharchive.org/2015-01-01-18.json.gz"
   ]
  },
  {
   "cell_type": "code",
   "execution_count": 22,
   "id": "cheap-thong",
   "metadata": {},
   "outputs": [
    {
     "data": {
      "text/plain": [
       "['data_folder',\n",
       " 'numpy-reference.ipynb',\n",
       " 'Untitled.ipynb',\n",
       " '2015-01-01-18.json.gz',\n",
       " '2015-01-01-15.json.gz',\n",
       " '.ipynb_checkpoints',\n",
       " '2015-01-01-16.json.gz',\n",
       " '2015-01-01-17.json.gz']"
      ]
     },
     "execution_count": 22,
     "metadata": {},
     "output_type": "execute_result"
    }
   ],
   "source": [
    "# the OS library is useful for getting what's in my current directory\n",
    "my_directory=os.getcwd()\n",
    "os.listdir(my_directory)"
   ]
  },
  {
   "cell_type": "code",
   "execution_count": 24,
   "id": "placed-uniform",
   "metadata": {},
   "outputs": [
    {
     "name": "stdout",
     "output_type": "stream",
     "text": [
      "['2015-01-01-18.json.gz', '2015-01-01-15.json.gz', '2015-01-01-16.json.gz', '2015-01-01-17.json.gz']\n"
     ]
    }
   ],
   "source": [
    "# make a list of only the JSON files in my directory\n",
    "jsongz_files=[]\n",
    "\n",
    "for f in os.listdir('data_folder'):\n",
    "    if f[-8:]=='.json.gz':\n",
    "        jsongz_files.append(f)\n",
    "\n",
    "print(jsongz_files)"
   ]
  },
  {
   "cell_type": "code",
   "execution_count": 36,
   "id": "intelligent-realtor",
   "metadata": {},
   "outputs": [],
   "source": [
    "# using a for-loop, combine them all into a pandas dataframe\n",
    "df = pd.DataFrame()\n",
    "for i in range(len(jsongz_files)):\n",
    "    df1=pd.read_json(jsongz_files[i],  compression='infer', lines=True)\n",
    "    df= pd.concat([df, df1], axis=0)"
   ]
  },
  {
   "cell_type": "code",
   "execution_count": 37,
   "id": "smoking-cleanup",
   "metadata": {},
   "outputs": [
    {
     "data": {
      "text/plain": [
       "(47290, 8)"
      ]
     },
     "execution_count": 37,
     "metadata": {},
     "output_type": "execute_result"
    }
   ],
   "source": [
    "# check out your results\n",
    "print(df.shape)\n",
    "df.head()"
   ]
  }
 ],
 "metadata": {
  "kernelspec": {
   "display_name": "Python 3",
   "language": "python",
   "name": "python3"
  },
  "language_info": {
   "codemirror_mode": {
    "name": "ipython",
    "version": 3
   },
   "file_extension": ".py",
   "mimetype": "text/x-python",
   "name": "python",
   "nbconvert_exporter": "python",
   "pygments_lexer": "ipython3",
   "version": "3.8.2"
  }
 },
 "nbformat": 4,
 "nbformat_minor": 5
}
