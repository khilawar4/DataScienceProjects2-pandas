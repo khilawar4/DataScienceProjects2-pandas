{
 "cells": [
  {
   "cell_type": "markdown",
   "metadata": {},
   "source": [
    "<img src=\"http://imgur.com/1ZcRyrc.png\" style=\"float: left; margin: 20px; height: 55px\">\n",
    "\n",
    "# EU government bond yields - data exploration exercise"
   ]
  },
  {
   "cell_type": "markdown",
   "metadata": {},
   "source": [
    "In this exercise we'll use a dataset of long term government bond yields from [data.europa.eu](https://data.europa.eu/euodp/en/data/dataset/JmCLAeHrvXI80AhjeV3zYQ) to practise exploring data with `pandas`.\n",
    "\n",
    "### 1. Load in the data\n",
    "\n",
    "Open the dataset `eu-govt-bonds.tsv` in the `data` folder with a text editing tool like Notepad to examine its structure. This will help determine what options to use when loading the data in. Things to consider:\n",
    "\n",
    "- is there a header row?\n",
    "- what is the separator used to separate the different items of data?\n",
    "\n",
    "Examine the top 5 rows once you've loaded the data in"
   ]
  },
  {
   "cell_type": "code",
   "execution_count": null,
   "metadata": {},
   "outputs": [],
   "source": []
  },
  {
   "cell_type": "markdown",
   "metadata": {},
   "source": [
    "### 2. Fix the column names\n",
    "\n",
    "Try to select just the column for January 2020. Do you get an error? If so, why?\n",
    "\n",
    "Print the column names to see what the problem is, and fix it.\n",
    "\n",
    "*Hint: when you view a table in Jupyter, you won't necessarily see extra whitespace!*"
   ]
  },
  {
   "cell_type": "code",
   "execution_count": null,
   "metadata": {},
   "outputs": [],
   "source": []
  },
  {
   "cell_type": "markdown",
   "metadata": {},
   "source": [
    "### 3. Extract the country code into its own column\n",
    "\n",
    "The first column of data has the two-letter country code at the end of each value. Extract this into a new column called \"country_code\", and drop the original column."
   ]
  },
  {
   "cell_type": "code",
   "execution_count": null,
   "metadata": {},
   "outputs": [],
   "source": []
  },
  {
   "cell_type": "markdown",
   "metadata": {},
   "source": [
    "### 4. Check (and fix) the data types\n",
    "\n",
    "Print the data types of the dataset. Do you notice anything strange?\n",
    "\n",
    "One of the countries is causing all the columns to register as non-numeric. Find the country with invalid values and remove it from the dataset.\n",
    "\n",
    "Once you've removed it, convert the numeric columns to be the correct numeric type."
   ]
  },
  {
   "cell_type": "code",
   "execution_count": null,
   "metadata": {},
   "outputs": [],
   "source": []
  },
  {
   "cell_type": "markdown",
   "metadata": {},
   "source": [
    "### 5. Load in a second dataset, of country codes and their matching country names \n",
    "\n",
    "There is a dataset in the `data` folder called `country-codes.csv` - load this into a new DataFrame.\n",
    "\n",
    "***Note: if you encounter an error when loading the dataset, it is due to special characters appearing in the file, namely the \"Å\" in Åland Islands. To bypass this, look at the `encoding` parameter when reading in your csv. [This article](https://docs.python.org/3/library/codecs.html#standard-encodings) details all the possible encodings you can use - look for something that deals with Western European languages. ***"
   ]
  },
  {
   "cell_type": "code",
   "execution_count": null,
   "metadata": {},
   "outputs": [],
   "source": []
  },
  {
   "cell_type": "markdown",
   "metadata": {},
   "source": [
    "### 6. Use the country code to get the country name\n",
    "\n",
    "Merge the rate dataset with country codes to add the country name to your original DataFrame.\n",
    "\n",
    "***Note: perhaps not all values in your `country_code` column map to the `country-codes` file, so choose your join type wisely! Hint: look at the `how` parameter in the pandas `merge` function.***"
   ]
  },
  {
   "cell_type": "code",
   "execution_count": null,
   "metadata": {},
   "outputs": [],
   "source": []
  },
  {
   "cell_type": "markdown",
   "metadata": {},
   "source": [
    "### 7. Check for missing data\n",
    "\n",
    "Is there any missing data in any of the columns? Which country codes were you not able to match to a row in the reference file?"
   ]
  },
  {
   "cell_type": "code",
   "execution_count": null,
   "metadata": {},
   "outputs": [],
   "source": []
  },
  {
   "cell_type": "markdown",
   "metadata": {},
   "source": [
    "### 8. Explicitly add the country name for the UK\n",
    "\n",
    "The country code for the UK is \"GB\", but in the dataset it was coded as \"UK\" so the join won't have worked for that record.\n",
    "\n",
    "Explicitly add the country name for the UK for the row where the `country_code` is `UK`"
   ]
  },
  {
   "cell_type": "code",
   "execution_count": null,
   "metadata": {},
   "outputs": [],
   "source": []
  },
  {
   "cell_type": "markdown",
   "metadata": {},
   "source": [
    "### 9. Find the country with the highest and lowest rates in January 2020"
   ]
  },
  {
   "cell_type": "code",
   "execution_count": null,
   "metadata": {},
   "outputs": [],
   "source": []
  },
  {
   "cell_type": "markdown",
   "metadata": {},
   "source": [
    "### 10. Find the country with the smallest *absolute* difference in rate between the first and last months of the dataset"
   ]
  },
  {
   "cell_type": "code",
   "execution_count": null,
   "metadata": {},
   "outputs": [],
   "source": []
  },
  {
   "cell_type": "markdown",
   "metadata": {},
   "source": [
    "### 11. Export your joined/cleaned dataset for use in later exercises"
   ]
  },
  {
   "cell_type": "code",
   "execution_count": null,
   "metadata": {},
   "outputs": [],
   "source": []
  },
  {
   "cell_type": "markdown",
   "metadata": {},
   "source": [
    "### 12. [Advanced] Calculate the mean and median rates per country\n",
    "\n",
    "This is trickier than it looks because you want the mean and median rates, but rates are in different columns.\n",
    "\n",
    "One approach is to make the country the index (primary/unique key) and calculate the mean/median of the numeric columns only (so ignoring country code for example). Calling `.mean()` on an entire dataset will calculate the mean *per column* whereas you want the mean *per row*. There is a parameter within `.mean()` that lets you change the direction of the aggregation...\n",
    "\n",
    "Bonus: do this in the same command, outputting a table with a row per country and a column for the mean and another for the median. *Hint: there's a built in `pandas` function that lets you combine aggregations*"
   ]
  },
  {
   "cell_type": "code",
   "execution_count": null,
   "metadata": {},
   "outputs": [],
   "source": []
  },
  {
   "cell_type": "markdown",
   "metadata": {},
   "source": [
    "### 13. [Advanced] To make calculations easier, convert the data to a *narrow* format\n",
    "\n",
    "The idea is rather than having a column per month, have a \"month\" column and have all the values stored in it. The data should therefore look like this:\n",
    "\n",
    "| Country | Month   | Rate |\n",
    "|---------|---------|------|\n",
    "| Austria | 2019M02 | 0.45 |\n",
    "| Austria | 2019M03 | 0.38 |\n",
    "\n",
    "Use [this pandas article](https://pandas.pydata.org/pandas-docs/stable/user_guide/reshaping.html) to help you find the right command.\n",
    "\n",
    "You can read more about wide vs. narrow data here: [https://en.wikipedia.org/wiki/Wide_and_narrow_data](https://en.wikipedia.org/wiki/Wide_and_narrow_data)"
   ]
  },
  {
   "cell_type": "code",
   "execution_count": null,
   "metadata": {},
   "outputs": [],
   "source": []
  },
  {
   "cell_type": "markdown",
   "metadata": {},
   "source": [
    "### 14. Calculate the mean and median rate for each country again\n",
    "\n",
    "Hopefully you'll agree it's more natural to do it with a narrow dataset rather than a wide one - just one difference between the two formats!"
   ]
  },
  {
   "cell_type": "code",
   "execution_count": null,
   "metadata": {},
   "outputs": [],
   "source": []
  }
 ],
 "metadata": {
  "kernelspec": {
   "display_name": "Python 3",
   "language": "python",
   "name": "python3"
  },
  "language_info": {
   "codemirror_mode": {
    "name": "ipython",
    "version": 3
   },
   "file_extension": ".py",
   "mimetype": "text/x-python",
   "name": "python",
   "nbconvert_exporter": "python",
   "pygments_lexer": "ipython3",
   "version": "3.8.3"
  }
 },
 "nbformat": 4,
 "nbformat_minor": 4
}
