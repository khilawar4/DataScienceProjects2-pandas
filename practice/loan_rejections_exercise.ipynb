{
 "cells": [
  {
   "cell_type": "markdown",
   "metadata": {},
   "source": [
    "<img src=\"http://imgur.com/1ZcRyrc.png\" style=\"float: left; margin: 20px; height: 55px\">\n",
    "\n",
    "## Lab: Exploring Loan Rejections Data\n",
    "\n",
    "<br><br>\n",
    "\n",
    "In this lab we'll look at data about **loan applications** from a company called Lending Club that facilitate peer-to-peer loans\n",
    "\n",
    "_\"Since 2007, we’ve been bringing borrowers and investors together, transforming the way people access credit. Over the last 10 years, we've helped millions of people take control of their debt, grow their small businesses, and invest for the future.\"_\n",
    "\n",
    "[Lending Club](https://www.lendingclub.com/company/about-us)\n",
    "\n",
    "[Data source](https://www.lendingclub.com/info/download-data.action)"
   ]
  },
  {
   "cell_type": "markdown",
   "metadata": {},
   "source": [
    "#### 1. Load the `pandas` library"
   ]
  },
  {
   "cell_type": "code",
   "execution_count": null,
   "metadata": {},
   "outputs": [],
   "source": [
    "#"
   ]
  },
  {
   "cell_type": "markdown",
   "metadata": {},
   "source": [
    "#### 2. Read in the dataset and take a look at it"
   ]
  },
  {
   "cell_type": "code",
   "execution_count": null,
   "metadata": {},
   "outputs": [],
   "source": [
    "#"
   ]
  },
  {
   "cell_type": "markdown",
   "metadata": {},
   "source": [
    "#### 3. How many rows are there?"
   ]
  },
  {
   "cell_type": "code",
   "execution_count": null,
   "metadata": {},
   "outputs": [],
   "source": [
    "#"
   ]
  },
  {
   "cell_type": "markdown",
   "metadata": {},
   "source": [
    "#### 4. What are each column's data types?"
   ]
  },
  {
   "cell_type": "code",
   "execution_count": null,
   "metadata": {},
   "outputs": [],
   "source": [
    "#"
   ]
  },
  {
   "cell_type": "markdown",
   "metadata": {},
   "source": [
    "#### 5. Investigate which columns have missing values"
   ]
  },
  {
   "cell_type": "code",
   "execution_count": null,
   "metadata": {},
   "outputs": [],
   "source": [
    "#"
   ]
  },
  {
   "cell_type": "markdown",
   "metadata": {},
   "source": [
    "#### 6. What are the smallest and largest loan amounts?"
   ]
  },
  {
   "cell_type": "code",
   "execution_count": null,
   "metadata": {},
   "outputs": [],
   "source": [
    "#"
   ]
  },
  {
   "cell_type": "markdown",
   "metadata": {},
   "source": [
    "#### 7. Find the rows where the requested amount is equal to the minimum and maximum values to investigate these further. Is the amount a valid value in those cases?\n",
    "\n",
    "Decide what to do with those rows - are they reasonable data? If you don't think so, drop the relevant rows."
   ]
  },
  {
   "cell_type": "code",
   "execution_count": null,
   "metadata": {},
   "outputs": [],
   "source": [
    "#"
   ]
  },
  {
   "cell_type": "markdown",
   "metadata": {},
   "source": [
    "#### 8. Calculate the average loan amount by state\n",
    "\n",
    "Check the values in the column first - are there any missing that need to be dealt with?"
   ]
  },
  {
   "cell_type": "code",
   "execution_count": null,
   "metadata": {},
   "outputs": [],
   "source": [
    "#"
   ]
  },
  {
   "cell_type": "markdown",
   "metadata": {},
   "source": [
    "#### 9. What are the different values in \"employment length\" and how many applications are there in each category?"
   ]
  },
  {
   "cell_type": "code",
   "execution_count": null,
   "metadata": {},
   "outputs": [],
   "source": [
    "#"
   ]
  },
  {
   "cell_type": "markdown",
   "metadata": {},
   "source": [
    "#### 10. You've been asked to estimate what % of loan applications are related to debt consolidation\n",
    "\n",
    "- drop rows that have no loan title\n",
    "- convert each string in the \"loan title\" column to be fully uppercase\n",
    "- count how many rows have the word \"DEBT\" in the loan title\n",
    "- work out what this is as a % of your total dataset"
   ]
  },
  {
   "cell_type": "code",
   "execution_count": null,
   "metadata": {},
   "outputs": [],
   "source": [
    "#"
   ]
  },
  {
   "cell_type": "markdown",
   "metadata": {},
   "source": [
    "#### 11. BONUS: Expand on the above by trying multiple keywords at once\n",
    "\n",
    "- identify a set of (uppercase) keywords to search for in the loan titles and store them in a Python list\n",
    "- as above, make sure your loan titles are uppercase\n",
    "- search for rows containing any of your keywords\n",
    "\n",
    "You could do this with the multiple filter syntax:\n",
    "\n",
    "```python\n",
    "df[df[(<condition 1>) & (<condition 2>)...]]\n",
    "```\n",
    "\n",
    "but that means you can't store your keywords in a list and amend them without amending the above code.\n",
    "\n",
    "Instead, one approach is to create a new column to track whether a row matches any of the keywords. Then looping through your list of keywords, for each row that matches that particular keyword, set the value of this column to `True`. So the idea is:\n",
    "\n",
    "- Say you're looking for words \"DEBT\" and \"CONSOLIDATE\"\n",
    "- First, identify all rows that contain the word \"DEBT\" and update a column, say \"matches_keyword\", to `True`.\n",
    "- Then do the same for \"CONSOLIDATE\". Most of the ones that have this word will already have the \"matches_keyword\" set to `True`, but the idea is to also catch the ones that don't\n",
    "- You can do this for any number of keywords\n",
    "- When you're done, you can use the \"matches_keyword\" column to tell you how many rows match **at least one** of your keywords"
   ]
  },
  {
   "cell_type": "code",
   "execution_count": null,
   "metadata": {},
   "outputs": [],
   "source": [
    "#"
   ]
  }
 ],
 "metadata": {
  "kernelspec": {
   "display_name": "Python 3",
   "language": "python",
   "name": "python3"
  },
  "language_info": {
   "codemirror_mode": {
    "name": "ipython",
    "version": 3
   },
   "file_extension": ".py",
   "mimetype": "text/x-python",
   "name": "python",
   "nbconvert_exporter": "python",
   "pygments_lexer": "ipython3",
   "version": "3.8.3"
  }
 },
 "nbformat": 4,
 "nbformat_minor": 2
}
