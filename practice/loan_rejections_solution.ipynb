{
 "cells": [
  {
   "cell_type": "markdown",
   "metadata": {},
   "source": [
    "<img src=\"http://imgur.com/1ZcRyrc.png\" style=\"float: left; margin: 20px; height: 55px\">\n",
    "\n",
    "## Lab: Exploring Loan Rejections Data\n",
    "\n",
    "<br><br>\n",
    "\n",
    "In this lab we'll look at data about **loan applications** from a company called Lending Club that facilitate peer-to-peer loans\n",
    "\n",
    "_\"Since 2007, we’ve been bringing borrowers and investors together, transforming the way people access credit. Over the last 10 years, we've helped millions of people take control of their debt, grow their small businesses, and invest for the future.\"_\n",
    "\n",
    "[Lending Club](https://www.lendingclub.com/company/about-us)\n",
    "\n",
    "[Data source](https://www.lendingclub.com/info/download-data.action)"
   ]
  },
  {
   "cell_type": "markdown",
   "metadata": {},
   "source": [
    "#### 1. Load the `pandas` library"
   ]
  },
  {
   "cell_type": "code",
   "execution_count": 1,
   "metadata": {},
   "outputs": [],
   "source": [
    "import pandas as pd"
   ]
  },
  {
   "cell_type": "markdown",
   "metadata": {},
   "source": [
    "#### 2. Read in the dataset and take a look at it"
   ]
  },
  {
   "cell_type": "code",
   "execution_count": 2,
   "metadata": {},
   "outputs": [
    {
     "data": {
      "text/html": [
       "<div>\n",
       "<style scoped>\n",
       "    .dataframe tbody tr th:only-of-type {\n",
       "        vertical-align: middle;\n",
       "    }\n",
       "\n",
       "    .dataframe tbody tr th {\n",
       "        vertical-align: top;\n",
       "    }\n",
       "\n",
       "    .dataframe thead th {\n",
       "        text-align: right;\n",
       "    }\n",
       "</style>\n",
       "<table border=\"1\" class=\"dataframe\">\n",
       "  <thead>\n",
       "    <tr style=\"text-align: right;\">\n",
       "      <th></th>\n",
       "      <th>Amount Requested</th>\n",
       "      <th>Application Date</th>\n",
       "      <th>Loan Title</th>\n",
       "      <th>Risk_Score</th>\n",
       "      <th>Debt-To-Income Ratio</th>\n",
       "      <th>State</th>\n",
       "      <th>Employment Length</th>\n",
       "    </tr>\n",
       "  </thead>\n",
       "  <tbody>\n",
       "    <tr>\n",
       "      <th>0</th>\n",
       "      <td>1000.0</td>\n",
       "      <td>2007-05-26</td>\n",
       "      <td>Wedding Covered but No Honeymoon</td>\n",
       "      <td>693.0</td>\n",
       "      <td>10%</td>\n",
       "      <td>NM</td>\n",
       "      <td>4 years</td>\n",
       "    </tr>\n",
       "    <tr>\n",
       "      <th>1</th>\n",
       "      <td>1000.0</td>\n",
       "      <td>2007-05-26</td>\n",
       "      <td>Consolidating Debt</td>\n",
       "      <td>703.0</td>\n",
       "      <td>10%</td>\n",
       "      <td>MA</td>\n",
       "      <td>&lt; 1 year</td>\n",
       "    </tr>\n",
       "    <tr>\n",
       "      <th>2</th>\n",
       "      <td>11000.0</td>\n",
       "      <td>2007-05-27</td>\n",
       "      <td>Want to consolidate my debt</td>\n",
       "      <td>715.0</td>\n",
       "      <td>10%</td>\n",
       "      <td>MD</td>\n",
       "      <td>1 year</td>\n",
       "    </tr>\n",
       "    <tr>\n",
       "      <th>3</th>\n",
       "      <td>6000.0</td>\n",
       "      <td>2007-05-27</td>\n",
       "      <td>waksman</td>\n",
       "      <td>698.0</td>\n",
       "      <td>38.64%</td>\n",
       "      <td>MA</td>\n",
       "      <td>&lt; 1 year</td>\n",
       "    </tr>\n",
       "    <tr>\n",
       "      <th>4</th>\n",
       "      <td>1500.0</td>\n",
       "      <td>2007-05-27</td>\n",
       "      <td>mdrigo</td>\n",
       "      <td>509.0</td>\n",
       "      <td>9.43%</td>\n",
       "      <td>MD</td>\n",
       "      <td>&lt; 1 year</td>\n",
       "    </tr>\n",
       "  </tbody>\n",
       "</table>\n",
       "</div>"
      ],
      "text/plain": [
       "   Amount Requested Application Date                        Loan Title  \\\n",
       "0            1000.0       2007-05-26  Wedding Covered but No Honeymoon   \n",
       "1            1000.0       2007-05-26                Consolidating Debt   \n",
       "2           11000.0       2007-05-27       Want to consolidate my debt   \n",
       "3            6000.0       2007-05-27                           waksman   \n",
       "4            1500.0       2007-05-27                            mdrigo   \n",
       "\n",
       "   Risk_Score Debt-To-Income Ratio State Employment Length  \n",
       "0       693.0                  10%    NM           4 years  \n",
       "1       703.0                  10%    MA          < 1 year  \n",
       "2       715.0                  10%    MD            1 year  \n",
       "3       698.0               38.64%    MA          < 1 year  \n",
       "4       509.0                9.43%    MD          < 1 year  "
      ]
     },
     "execution_count": 2,
     "metadata": {},
     "output_type": "execute_result"
    }
   ],
   "source": [
    "df = pd.read_csv(\"../data/rejections.csv.gz\")\n",
    "df.head()"
   ]
  },
  {
   "cell_type": "markdown",
   "metadata": {},
   "source": [
    "#### 3. How many rows are there?"
   ]
  },
  {
   "cell_type": "code",
   "execution_count": 3,
   "metadata": {},
   "outputs": [
    {
     "data": {
      "text/plain": [
       "755491"
      ]
     },
     "execution_count": 3,
     "metadata": {},
     "output_type": "execute_result"
    }
   ],
   "source": [
    "len(df)"
   ]
  },
  {
   "cell_type": "markdown",
   "metadata": {},
   "source": [
    "#### 4. What are each column's data types?"
   ]
  },
  {
   "cell_type": "code",
   "execution_count": 4,
   "metadata": {},
   "outputs": [
    {
     "data": {
      "text/plain": [
       "Amount Requested        float64\n",
       "Application Date         object\n",
       "Loan Title               object\n",
       "Risk_Score              float64\n",
       "Debt-To-Income Ratio     object\n",
       "State                    object\n",
       "Employment Length        object\n",
       "dtype: object"
      ]
     },
     "execution_count": 4,
     "metadata": {},
     "output_type": "execute_result"
    }
   ],
   "source": [
    "df.dtypes"
   ]
  },
  {
   "cell_type": "markdown",
   "metadata": {},
   "source": [
    "#### 5. Investigate which columns have missing values"
   ]
  },
  {
   "cell_type": "code",
   "execution_count": 5,
   "metadata": {},
   "outputs": [
    {
     "data": {
      "text/plain": [
       "Amount Requested            0\n",
       "Application Date            0\n",
       "Loan Title                 14\n",
       "Risk_Score              23929\n",
       "Debt-To-Income Ratio        0\n",
       "State                      21\n",
       "Employment Length        8130\n",
       "dtype: int64"
      ]
     },
     "execution_count": 5,
     "metadata": {},
     "output_type": "execute_result"
    }
   ],
   "source": [
    "df.isnull().sum()"
   ]
  },
  {
   "cell_type": "markdown",
   "metadata": {},
   "source": [
    "#### 6. What are the smallest and largest loan amounts?"
   ]
  },
  {
   "cell_type": "code",
   "execution_count": 6,
   "metadata": {},
   "outputs": [
    {
     "name": "stdout",
     "output_type": "stream",
     "text": [
      "0.0 1400000.0\n"
     ]
    }
   ],
   "source": [
    "print(df[\"Amount Requested\"].min(), df[\"Amount Requested\"].max())"
   ]
  },
  {
   "cell_type": "markdown",
   "metadata": {},
   "source": [
    "#### 7. Find the rows where the requested amount is equal to the minimum and maximum values to investigate these further. Is the amount a valid value in those cases?\n",
    "\n",
    "Decide what to do with those rows - are they reasonable data? If you don't think so, drop the relevant rows."
   ]
  },
  {
   "cell_type": "code",
   "execution_count": 7,
   "metadata": {},
   "outputs": [
    {
     "data": {
      "text/html": [
       "<div>\n",
       "<style scoped>\n",
       "    .dataframe tbody tr th:only-of-type {\n",
       "        vertical-align: middle;\n",
       "    }\n",
       "\n",
       "    .dataframe tbody tr th {\n",
       "        vertical-align: top;\n",
       "    }\n",
       "\n",
       "    .dataframe thead th {\n",
       "        text-align: right;\n",
       "    }\n",
       "</style>\n",
       "<table border=\"1\" class=\"dataframe\">\n",
       "  <thead>\n",
       "    <tr style=\"text-align: right;\">\n",
       "      <th></th>\n",
       "      <th>Amount Requested</th>\n",
       "      <th>Application Date</th>\n",
       "      <th>Loan Title</th>\n",
       "      <th>Risk_Score</th>\n",
       "      <th>Debt-To-Income Ratio</th>\n",
       "      <th>State</th>\n",
       "      <th>Employment Length</th>\n",
       "    </tr>\n",
       "  </thead>\n",
       "  <tbody>\n",
       "    <tr>\n",
       "      <th>531884</th>\n",
       "      <td>0.0</td>\n",
       "      <td>2012-06-07</td>\n",
       "      <td>NaN</td>\n",
       "      <td>677.0</td>\n",
       "      <td>32.28%</td>\n",
       "      <td>RI</td>\n",
       "      <td>&lt; 1 year</td>\n",
       "    </tr>\n",
       "    <tr>\n",
       "      <th>594623</th>\n",
       "      <td>0.0</td>\n",
       "      <td>2012-08-15</td>\n",
       "      <td>NaN</td>\n",
       "      <td>685.0</td>\n",
       "      <td>44.04%</td>\n",
       "      <td>NC</td>\n",
       "      <td>&lt; 1 year</td>\n",
       "    </tr>\n",
       "  </tbody>\n",
       "</table>\n",
       "</div>"
      ],
      "text/plain": [
       "        Amount Requested Application Date Loan Title  Risk_Score  \\\n",
       "531884               0.0       2012-06-07        NaN       677.0   \n",
       "594623               0.0       2012-08-15        NaN       685.0   \n",
       "\n",
       "       Debt-To-Income Ratio State Employment Length  \n",
       "531884               32.28%    RI          < 1 year  \n",
       "594623               44.04%    NC          < 1 year  "
      ]
     },
     "execution_count": 7,
     "metadata": {},
     "output_type": "execute_result"
    }
   ],
   "source": [
    "df[df[\"Amount Requested\"] == 0]"
   ]
  },
  {
   "cell_type": "code",
   "execution_count": 8,
   "metadata": {},
   "outputs": [
    {
     "data": {
      "text/html": [
       "<div>\n",
       "<style scoped>\n",
       "    .dataframe tbody tr th:only-of-type {\n",
       "        vertical-align: middle;\n",
       "    }\n",
       "\n",
       "    .dataframe tbody tr th {\n",
       "        vertical-align: top;\n",
       "    }\n",
       "\n",
       "    .dataframe thead th {\n",
       "        text-align: right;\n",
       "    }\n",
       "</style>\n",
       "<table border=\"1\" class=\"dataframe\">\n",
       "  <thead>\n",
       "    <tr style=\"text-align: right;\">\n",
       "      <th></th>\n",
       "      <th>Amount Requested</th>\n",
       "      <th>Application Date</th>\n",
       "      <th>Loan Title</th>\n",
       "      <th>Risk_Score</th>\n",
       "      <th>Debt-To-Income Ratio</th>\n",
       "      <th>State</th>\n",
       "      <th>Employment Length</th>\n",
       "    </tr>\n",
       "  </thead>\n",
       "  <tbody>\n",
       "    <tr>\n",
       "      <th>157454</th>\n",
       "      <td>1400000.0</td>\n",
       "      <td>2010-09-10</td>\n",
       "      <td>car</td>\n",
       "      <td>641.0</td>\n",
       "      <td>47.55%</td>\n",
       "      <td>SC</td>\n",
       "      <td>2 years</td>\n",
       "    </tr>\n",
       "  </tbody>\n",
       "</table>\n",
       "</div>"
      ],
      "text/plain": [
       "        Amount Requested Application Date Loan Title  Risk_Score  \\\n",
       "157454         1400000.0       2010-09-10        car       641.0   \n",
       "\n",
       "       Debt-To-Income Ratio State Employment Length  \n",
       "157454               47.55%    SC           2 years  "
      ]
     },
     "execution_count": 8,
     "metadata": {},
     "output_type": "execute_result"
    }
   ],
   "source": [
    "df[df[\"Amount Requested\"] == df[\"Amount Requested\"].max()]"
   ]
  },
  {
   "cell_type": "markdown",
   "metadata": {},
   "source": [
    "Conclusion: the 0 loan amounts look like bad data, but it's possible someone tried asking for a 1.4 million loan for  a car..."
   ]
  },
  {
   "cell_type": "code",
   "execution_count": 9,
   "metadata": {},
   "outputs": [],
   "source": [
    "df = df[df[\"Amount Requested\"] > 0]"
   ]
  },
  {
   "cell_type": "markdown",
   "metadata": {},
   "source": [
    "#### 8. Calculate the average loan amount by state\n",
    "\n",
    "Check the values in the column first - are there any missing that need to be dealt with?"
   ]
  },
  {
   "cell_type": "code",
   "execution_count": 10,
   "metadata": {},
   "outputs": [
    {
     "data": {
      "text/plain": [
       "21"
      ]
     },
     "execution_count": 10,
     "metadata": {},
     "output_type": "execute_result"
    }
   ],
   "source": [
    "len(df[df[\"State\"].isnull()])"
   ]
  },
  {
   "cell_type": "markdown",
   "metadata": {},
   "source": [
    "Yes, there are some nulls, so drop them"
   ]
  },
  {
   "cell_type": "code",
   "execution_count": 11,
   "metadata": {},
   "outputs": [],
   "source": [
    "df = df.dropna(subset=[\"State\"])"
   ]
  },
  {
   "cell_type": "code",
   "execution_count": 12,
   "metadata": {},
   "outputs": [
    {
     "data": {
      "text/plain": [
       "State\n",
       "AK    13713.117207\n",
       "AL    11917.882667\n",
       "AR    11783.122340\n",
       "AZ    12820.066855\n",
       "CA    13688.188489\n",
       "CO    13563.546496\n",
       "CT    12759.522782\n",
       "DC    11495.268342\n",
       "DE    12213.730901\n",
       "FL    12488.469416\n",
       "GA    12363.471699\n",
       "HI    14525.504831\n",
       "IA     8463.715278\n",
       "ID     8127.898551\n",
       "IL    13226.302346\n",
       "IN     8762.786596\n",
       "KS    13065.799085\n",
       "KY    12141.954501\n",
       "LA    12403.720849\n",
       "MA    12455.818943\n",
       "MD    12102.264194\n",
       "ME     8394.907407\n",
       "MI    12641.243900\n",
       "MN    12939.081538\n",
       "MO    12363.794451\n",
       "MS     8010.117967\n",
       "MT    13555.610490\n",
       "NC    12589.666025\n",
       "ND    10059.210526\n",
       "NE     8603.960000\n",
       "NH    13461.364525\n",
       "NJ    13935.483039\n",
       "NM    12971.771379\n",
       "NV    12698.887622\n",
       "NY    13244.061086\n",
       "OH    12159.725084\n",
       "OK    12443.821066\n",
       "OR    13210.777879\n",
       "PA    12776.552922\n",
       "RI    12017.457795\n",
       "SC    12247.359840\n",
       "SD    13313.379630\n",
       "TN     7631.570156\n",
       "TX    13165.323352\n",
       "UT    13458.504136\n",
       "VA    12951.084647\n",
       "VT    12963.318207\n",
       "WA    13681.032498\n",
       "WI    12357.816119\n",
       "WV    12232.870257\n",
       "WY    14239.629975\n",
       "Name: Amount Requested, dtype: float64"
      ]
     },
     "execution_count": 12,
     "metadata": {},
     "output_type": "execute_result"
    }
   ],
   "source": [
    "df.groupby(\"State\")[\"Amount Requested\"].mean()"
   ]
  },
  {
   "cell_type": "markdown",
   "metadata": {},
   "source": [
    "#### 9. What are the different values in \"employment length\" and how many applications are there in each category?"
   ]
  },
  {
   "cell_type": "code",
   "execution_count": 13,
   "metadata": {},
   "outputs": [
    {
     "data": {
      "text/plain": [
       "1 year        25444\n",
       "10+ years     38324\n",
       "2 years       26115\n",
       "3 years       20417\n",
       "4 years       15929\n",
       "5 years       14617\n",
       "6 years       11158\n",
       "7 years        8090\n",
       "8 years        7452\n",
       "9 years        5721\n",
       "< 1 year     574071\n",
       "Name: Employment Length, dtype: int64"
      ]
     },
     "execution_count": 13,
     "metadata": {},
     "output_type": "execute_result"
    }
   ],
   "source": [
    "df[\"Employment Length\"].value_counts().sort_index()"
   ]
  },
  {
   "cell_type": "markdown",
   "metadata": {},
   "source": [
    "We can use `sort_index()` to order by the category, not the count. Not perfect because they're strings, so 10 is between 1 and 2, but we get the gist!"
   ]
  },
  {
   "cell_type": "markdown",
   "metadata": {},
   "source": [
    "#### 10. You've been asked to estimate what % of loan applications are related to debt consolidation\n",
    "\n",
    "- drop rows that have no loan title\n",
    "- convert each string in the \"loan title\" column to be fully uppercase\n",
    "- count how many rows have the word \"DEBT\" in the loan title\n",
    "- work out what this is as a % of your total dataset"
   ]
  },
  {
   "cell_type": "code",
   "execution_count": 14,
   "metadata": {},
   "outputs": [
    {
     "name": "stdout",
     "output_type": "stream",
     "text": [
      "265240\n",
      "35.109920365977636\n"
     ]
    }
   ],
   "source": [
    "df = df.dropna(subset=[\"Loan Title\"])\n",
    "\n",
    "df[\"loan_title_upper\"] = df[\"Loan Title\"].str.upper()\n",
    "\n",
    "debt_count = len(df[df[\"loan_title_upper\"].str.contains(\"DEBT\")])\n",
    "\n",
    "print(debt_count)\n",
    "\n",
    "print(100*(debt_count / len(df)))"
   ]
  },
  {
   "cell_type": "markdown",
   "metadata": {},
   "source": [
    "#### 11. BONUS: Expand on the above by trying multiple keywords at once\n",
    "\n",
    "- identify a set of (uppercase) keywords to search for in the loan titles and store them in a Python list\n",
    "- as above, make sure your loan titles are uppercase\n",
    "- search for rows containing any of your keywords\n",
    "\n",
    "You could do this with the multiple filter syntax:\n",
    "\n",
    "```python\n",
    "df[df[(<condition 1>) & (<condition 2>)...]]\n",
    "```\n",
    "\n",
    "but that means you can't store your keywords in a list and amend them without amending the above code.\n",
    "\n",
    "Instead, one approach is to create a new column to track whether a row matches any of the keywords. Then looping through your list of keywords, for each row that matches that particular keyword, set the value of this column to `True`. So the idea is:\n",
    "\n",
    "- Say you're looking for words \"DEBT\" and \"CONSOLIDATE\"\n",
    "- First, identify all rows that contain the word \"DEBT\" and update a column, say \"matches_keyword\", to `True`.\n",
    "- Then do the same for \"CONSOLIDATE\". Most of the ones that have this word will already have the \"matches_keyword\" set to `True`, but the idea is to also catch the ones that don't\n",
    "- You can do this for any number of keywords\n",
    "- When you're done, you can use the \"matches_keyword\" column to tell you how many rows match **at least one** of your keywords"
   ]
  },
  {
   "cell_type": "code",
   "execution_count": 15,
   "metadata": {},
   "outputs": [
    {
     "name": "stdout",
     "output_type": "stream",
     "text": [
      "266978\n",
      "35.33998009149441\n"
     ]
    }
   ],
   "source": [
    "keywords = [\"DEBT\", \"CONSOLIDATE\", \"CONSOLIDATING\"]\n",
    "\n",
    "for word in keywords:\n",
    "    df.loc[df[\"loan_title_upper\"].str.contains(word), \"matches_keyword\"] = True\n",
    "\n",
    "df[\"matches_keyword\"].fillna(False, inplace=True)\n",
    "    \n",
    "total_count = len(df[df[\"matches_keyword\"]])\n",
    "\n",
    "print(total_count)\n",
    "print(100*(total_count / len(df)))"
   ]
  },
  {
   "cell_type": "markdown",
   "metadata": {},
   "source": [
    "Another way to get the % from this columns is using `value_counts`:"
   ]
  },
  {
   "cell_type": "code",
   "execution_count": 16,
   "metadata": {},
   "outputs": [
    {
     "data": {
      "text/plain": [
       "False    0.6466\n",
       "True     0.3534\n",
       "Name: matches_keyword, dtype: float64"
      ]
     },
     "execution_count": 16,
     "metadata": {},
     "output_type": "execute_result"
    }
   ],
   "source": [
    "df[\"matches_keyword\"].value_counts() / len(df)"
   ]
  }
 ],
 "metadata": {
  "kernelspec": {
   "display_name": "Python 3",
   "language": "python",
   "name": "python3"
  },
  "language_info": {
   "codemirror_mode": {
    "name": "ipython",
    "version": 3
   },
   "file_extension": ".py",
   "mimetype": "text/x-python",
   "name": "python",
   "nbconvert_exporter": "python",
   "pygments_lexer": "ipython3",
   "version": "3.8.2"
  }
 },
 "nbformat": 4,
 "nbformat_minor": 2
}
