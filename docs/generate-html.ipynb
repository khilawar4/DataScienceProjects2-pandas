{
 "cells": [
  {
   "cell_type": "markdown",
   "id": "checked-relative",
   "metadata": {},
   "source": [
    "## Generate HTML images"
   ]
  },
  {
   "cell_type": "code",
   "execution_count": null,
   "id": "waiting-cologne",
   "metadata": {},
   "outputs": [],
   "source": [
    "# ! pip install plotly"
   ]
  },
  {
   "cell_type": "code",
   "execution_count": 1,
   "id": "raised-reality",
   "metadata": {},
   "outputs": [],
   "source": [
    "import plotly.graph_objs as go\n",
    "import numpy as np"
   ]
  },
  {
   "cell_type": "code",
   "execution_count": 10,
   "id": "surrounded-hearing",
   "metadata": {},
   "outputs": [
    {
     "data": {
      "application/vnd.plotly.v1+json": {
       "config": {
        "plotlyServerURL": "https://plot.ly"
       },
       "data": [
        {
         "labels": [
          "Oxygen",
          "Hydrogen",
          "Carbon Dioxide",
          "Nitrogen"
         ],
         "type": "pie",
         "values": [
          4500,
          2500,
          1053,
          500
         ]
        }
       ],
       "layout": {
        "template": {
         "data": {
          "bar": [
           {
            "error_x": {
             "color": "#2a3f5f"
            },
            "error_y": {
             "color": "#2a3f5f"
            },
            "marker": {
             "line": {
              "color": "#E5ECF6",
              "width": 0.5
             }
            },
            "type": "bar"
           }
          ],
          "barpolar": [
           {
            "marker": {
             "line": {
              "color": "#E5ECF6",
              "width": 0.5
             }
            },
            "type": "barpolar"
           }
          ],
          "carpet": [
           {
            "aaxis": {
             "endlinecolor": "#2a3f5f",
             "gridcolor": "white",
             "linecolor": "white",
             "minorgridcolor": "white",
             "startlinecolor": "#2a3f5f"
            },
            "baxis": {
             "endlinecolor": "#2a3f5f",
             "gridcolor": "white",
             "linecolor": "white",
             "minorgridcolor": "white",
             "startlinecolor": "#2a3f5f"
            },
            "type": "carpet"
           }
          ],
          "choropleth": [
           {
            "colorbar": {
             "outlinewidth": 0,
             "ticks": ""
            },
            "type": "choropleth"
           }
          ],
          "contour": [
           {
            "colorbar": {
             "outlinewidth": 0,
             "ticks": ""
            },
            "colorscale": [
             [
              0,
              "#0d0887"
             ],
             [
              0.1111111111111111,
              "#46039f"
             ],
             [
              0.2222222222222222,
              "#7201a8"
             ],
             [
              0.3333333333333333,
              "#9c179e"
             ],
             [
              0.4444444444444444,
              "#bd3786"
             ],
             [
              0.5555555555555556,
              "#d8576b"
             ],
             [
              0.6666666666666666,
              "#ed7953"
             ],
             [
              0.7777777777777778,
              "#fb9f3a"
             ],
             [
              0.8888888888888888,
              "#fdca26"
             ],
             [
              1,
              "#f0f921"
             ]
            ],
            "type": "contour"
           }
          ],
          "contourcarpet": [
           {
            "colorbar": {
             "outlinewidth": 0,
             "ticks": ""
            },
            "type": "contourcarpet"
           }
          ],
          "heatmap": [
           {
            "colorbar": {
             "outlinewidth": 0,
             "ticks": ""
            },
            "colorscale": [
             [
              0,
              "#0d0887"
             ],
             [
              0.1111111111111111,
              "#46039f"
             ],
             [
              0.2222222222222222,
              "#7201a8"
             ],
             [
              0.3333333333333333,
              "#9c179e"
             ],
             [
              0.4444444444444444,
              "#bd3786"
             ],
             [
              0.5555555555555556,
              "#d8576b"
             ],
             [
              0.6666666666666666,
              "#ed7953"
             ],
             [
              0.7777777777777778,
              "#fb9f3a"
             ],
             [
              0.8888888888888888,
              "#fdca26"
             ],
             [
              1,
              "#f0f921"
             ]
            ],
            "type": "heatmap"
           }
          ],
          "heatmapgl": [
           {
            "colorbar": {
             "outlinewidth": 0,
             "ticks": ""
            },
            "colorscale": [
             [
              0,
              "#0d0887"
             ],
             [
              0.1111111111111111,
              "#46039f"
             ],
             [
              0.2222222222222222,
              "#7201a8"
             ],
             [
              0.3333333333333333,
              "#9c179e"
             ],
             [
              0.4444444444444444,
              "#bd3786"
             ],
             [
              0.5555555555555556,
              "#d8576b"
             ],
             [
              0.6666666666666666,
              "#ed7953"
             ],
             [
              0.7777777777777778,
              "#fb9f3a"
             ],
             [
              0.8888888888888888,
              "#fdca26"
             ],
             [
              1,
              "#f0f921"
             ]
            ],
            "type": "heatmapgl"
           }
          ],
          "histogram": [
           {
            "marker": {
             "colorbar": {
              "outlinewidth": 0,
              "ticks": ""
             }
            },
            "type": "histogram"
           }
          ],
          "histogram2d": [
           {
            "colorbar": {
             "outlinewidth": 0,
             "ticks": ""
            },
            "colorscale": [
             [
              0,
              "#0d0887"
             ],
             [
              0.1111111111111111,
              "#46039f"
             ],
             [
              0.2222222222222222,
              "#7201a8"
             ],
             [
              0.3333333333333333,
              "#9c179e"
             ],
             [
              0.4444444444444444,
              "#bd3786"
             ],
             [
              0.5555555555555556,
              "#d8576b"
             ],
             [
              0.6666666666666666,
              "#ed7953"
             ],
             [
              0.7777777777777778,
              "#fb9f3a"
             ],
             [
              0.8888888888888888,
              "#fdca26"
             ],
             [
              1,
              "#f0f921"
             ]
            ],
            "type": "histogram2d"
           }
          ],
          "histogram2dcontour": [
           {
            "colorbar": {
             "outlinewidth": 0,
             "ticks": ""
            },
            "colorscale": [
             [
              0,
              "#0d0887"
             ],
             [
              0.1111111111111111,
              "#46039f"
             ],
             [
              0.2222222222222222,
              "#7201a8"
             ],
             [
              0.3333333333333333,
              "#9c179e"
             ],
             [
              0.4444444444444444,
              "#bd3786"
             ],
             [
              0.5555555555555556,
              "#d8576b"
             ],
             [
              0.6666666666666666,
              "#ed7953"
             ],
             [
              0.7777777777777778,
              "#fb9f3a"
             ],
             [
              0.8888888888888888,
              "#fdca26"
             ],
             [
              1,
              "#f0f921"
             ]
            ],
            "type": "histogram2dcontour"
           }
          ],
          "mesh3d": [
           {
            "colorbar": {
             "outlinewidth": 0,
             "ticks": ""
            },
            "type": "mesh3d"
           }
          ],
          "parcoords": [
           {
            "line": {
             "colorbar": {
              "outlinewidth": 0,
              "ticks": ""
             }
            },
            "type": "parcoords"
           }
          ],
          "pie": [
           {
            "automargin": true,
            "type": "pie"
           }
          ],
          "scatter": [
           {
            "marker": {
             "colorbar": {
              "outlinewidth": 0,
              "ticks": ""
             }
            },
            "type": "scatter"
           }
          ],
          "scatter3d": [
           {
            "line": {
             "colorbar": {
              "outlinewidth": 0,
              "ticks": ""
             }
            },
            "marker": {
             "colorbar": {
              "outlinewidth": 0,
              "ticks": ""
             }
            },
            "type": "scatter3d"
           }
          ],
          "scattercarpet": [
           {
            "marker": {
             "colorbar": {
              "outlinewidth": 0,
              "ticks": ""
             }
            },
            "type": "scattercarpet"
           }
          ],
          "scattergeo": [
           {
            "marker": {
             "colorbar": {
              "outlinewidth": 0,
              "ticks": ""
             }
            },
            "type": "scattergeo"
           }
          ],
          "scattergl": [
           {
            "marker": {
             "colorbar": {
              "outlinewidth": 0,
              "ticks": ""
             }
            },
            "type": "scattergl"
           }
          ],
          "scattermapbox": [
           {
            "marker": {
             "colorbar": {
              "outlinewidth": 0,
              "ticks": ""
             }
            },
            "type": "scattermapbox"
           }
          ],
          "scatterpolar": [
           {
            "marker": {
             "colorbar": {
              "outlinewidth": 0,
              "ticks": ""
             }
            },
            "type": "scatterpolar"
           }
          ],
          "scatterpolargl": [
           {
            "marker": {
             "colorbar": {
              "outlinewidth": 0,
              "ticks": ""
             }
            },
            "type": "scatterpolargl"
           }
          ],
          "scatterternary": [
           {
            "marker": {
             "colorbar": {
              "outlinewidth": 0,
              "ticks": ""
             }
            },
            "type": "scatterternary"
           }
          ],
          "surface": [
           {
            "colorbar": {
             "outlinewidth": 0,
             "ticks": ""
            },
            "colorscale": [
             [
              0,
              "#0d0887"
             ],
             [
              0.1111111111111111,
              "#46039f"
             ],
             [
              0.2222222222222222,
              "#7201a8"
             ],
             [
              0.3333333333333333,
              "#9c179e"
             ],
             [
              0.4444444444444444,
              "#bd3786"
             ],
             [
              0.5555555555555556,
              "#d8576b"
             ],
             [
              0.6666666666666666,
              "#ed7953"
             ],
             [
              0.7777777777777778,
              "#fb9f3a"
             ],
             [
              0.8888888888888888,
              "#fdca26"
             ],
             [
              1,
              "#f0f921"
             ]
            ],
            "type": "surface"
           }
          ],
          "table": [
           {
            "cells": {
             "fill": {
              "color": "#EBF0F8"
             },
             "line": {
              "color": "white"
             }
            },
            "header": {
             "fill": {
              "color": "#C8D4E3"
             },
             "line": {
              "color": "white"
             }
            },
            "type": "table"
           }
          ]
         },
         "layout": {
          "annotationdefaults": {
           "arrowcolor": "#2a3f5f",
           "arrowhead": 0,
           "arrowwidth": 1
          },
          "autotypenumbers": "strict",
          "coloraxis": {
           "colorbar": {
            "outlinewidth": 0,
            "ticks": ""
           }
          },
          "colorscale": {
           "diverging": [
            [
             0,
             "#8e0152"
            ],
            [
             0.1,
             "#c51b7d"
            ],
            [
             0.2,
             "#de77ae"
            ],
            [
             0.3,
             "#f1b6da"
            ],
            [
             0.4,
             "#fde0ef"
            ],
            [
             0.5,
             "#f7f7f7"
            ],
            [
             0.6,
             "#e6f5d0"
            ],
            [
             0.7,
             "#b8e186"
            ],
            [
             0.8,
             "#7fbc41"
            ],
            [
             0.9,
             "#4d9221"
            ],
            [
             1,
             "#276419"
            ]
           ],
           "sequential": [
            [
             0,
             "#0d0887"
            ],
            [
             0.1111111111111111,
             "#46039f"
            ],
            [
             0.2222222222222222,
             "#7201a8"
            ],
            [
             0.3333333333333333,
             "#9c179e"
            ],
            [
             0.4444444444444444,
             "#bd3786"
            ],
            [
             0.5555555555555556,
             "#d8576b"
            ],
            [
             0.6666666666666666,
             "#ed7953"
            ],
            [
             0.7777777777777778,
             "#fb9f3a"
            ],
            [
             0.8888888888888888,
             "#fdca26"
            ],
            [
             1,
             "#f0f921"
            ]
           ],
           "sequentialminus": [
            [
             0,
             "#0d0887"
            ],
            [
             0.1111111111111111,
             "#46039f"
            ],
            [
             0.2222222222222222,
             "#7201a8"
            ],
            [
             0.3333333333333333,
             "#9c179e"
            ],
            [
             0.4444444444444444,
             "#bd3786"
            ],
            [
             0.5555555555555556,
             "#d8576b"
            ],
            [
             0.6666666666666666,
             "#ed7953"
            ],
            [
             0.7777777777777778,
             "#fb9f3a"
            ],
            [
             0.8888888888888888,
             "#fdca26"
            ],
            [
             1,
             "#f0f921"
            ]
           ]
          },
          "colorway": [
           "#636efa",
           "#EF553B",
           "#00cc96",
           "#ab63fa",
           "#FFA15A",
           "#19d3f3",
           "#FF6692",
           "#B6E880",
           "#FF97FF",
           "#FECB52"
          ],
          "font": {
           "color": "#2a3f5f"
          },
          "geo": {
           "bgcolor": "white",
           "lakecolor": "white",
           "landcolor": "#E5ECF6",
           "showlakes": true,
           "showland": true,
           "subunitcolor": "white"
          },
          "hoverlabel": {
           "align": "left"
          },
          "hovermode": "closest",
          "mapbox": {
           "style": "light"
          },
          "paper_bgcolor": "white",
          "plot_bgcolor": "#E5ECF6",
          "polar": {
           "angularaxis": {
            "gridcolor": "white",
            "linecolor": "white",
            "ticks": ""
           },
           "bgcolor": "#E5ECF6",
           "radialaxis": {
            "gridcolor": "white",
            "linecolor": "white",
            "ticks": ""
           }
          },
          "scene": {
           "xaxis": {
            "backgroundcolor": "#E5ECF6",
            "gridcolor": "white",
            "gridwidth": 2,
            "linecolor": "white",
            "showbackground": true,
            "ticks": "",
            "zerolinecolor": "white"
           },
           "yaxis": {
            "backgroundcolor": "#E5ECF6",
            "gridcolor": "white",
            "gridwidth": 2,
            "linecolor": "white",
            "showbackground": true,
            "ticks": "",
            "zerolinecolor": "white"
           },
           "zaxis": {
            "backgroundcolor": "#E5ECF6",
            "gridcolor": "white",
            "gridwidth": 2,
            "linecolor": "white",
            "showbackground": true,
            "ticks": "",
            "zerolinecolor": "white"
           }
          },
          "shapedefaults": {
           "line": {
            "color": "#2a3f5f"
           }
          },
          "ternary": {
           "aaxis": {
            "gridcolor": "white",
            "linecolor": "white",
            "ticks": ""
           },
           "baxis": {
            "gridcolor": "white",
            "linecolor": "white",
            "ticks": ""
           },
           "bgcolor": "#E5ECF6",
           "caxis": {
            "gridcolor": "white",
            "linecolor": "white",
            "ticks": ""
           }
          },
          "title": {
           "x": 0.05
          },
          "xaxis": {
           "automargin": true,
           "gridcolor": "white",
           "linecolor": "white",
           "ticks": "",
           "title": {
            "standoff": 15
           },
           "zerolinecolor": "white",
           "zerolinewidth": 2
          },
          "yaxis": {
           "automargin": true,
           "gridcolor": "white",
           "linecolor": "white",
           "ticks": "",
           "title": {
            "standoff": 15
           },
           "zerolinecolor": "white",
           "zerolinewidth": 2
          }
         }
        }
       }
      },
      "text/html": [
       "<div>                            <div id=\"286019a1-8a1c-4377-9e23-46c98788ae70\" class=\"plotly-graph-div\" style=\"height:525px; width:100%;\"></div>            <script type=\"text/javascript\">                require([\"plotly\"], function(Plotly) {                    window.PLOTLYENV=window.PLOTLYENV || {};                                    if (document.getElementById(\"286019a1-8a1c-4377-9e23-46c98788ae70\")) {                    Plotly.newPlot(                        \"286019a1-8a1c-4377-9e23-46c98788ae70\",                        [{\"labels\": [\"Oxygen\", \"Hydrogen\", \"Carbon Dioxide\", \"Nitrogen\"], \"type\": \"pie\", \"values\": [4500, 2500, 1053, 500]}],                        {\"template\": {\"data\": {\"bar\": [{\"error_x\": {\"color\": \"#2a3f5f\"}, \"error_y\": {\"color\": \"#2a3f5f\"}, \"marker\": {\"line\": {\"color\": \"#E5ECF6\", \"width\": 0.5}}, \"type\": \"bar\"}], \"barpolar\": [{\"marker\": {\"line\": {\"color\": \"#E5ECF6\", \"width\": 0.5}}, \"type\": \"barpolar\"}], \"carpet\": [{\"aaxis\": {\"endlinecolor\": \"#2a3f5f\", \"gridcolor\": \"white\", \"linecolor\": \"white\", \"minorgridcolor\": \"white\", \"startlinecolor\": \"#2a3f5f\"}, \"baxis\": {\"endlinecolor\": \"#2a3f5f\", \"gridcolor\": \"white\", \"linecolor\": \"white\", \"minorgridcolor\": \"white\", \"startlinecolor\": \"#2a3f5f\"}, \"type\": \"carpet\"}], \"choropleth\": [{\"colorbar\": {\"outlinewidth\": 0, \"ticks\": \"\"}, \"type\": \"choropleth\"}], \"contour\": [{\"colorbar\": {\"outlinewidth\": 0, \"ticks\": \"\"}, \"colorscale\": [[0.0, \"#0d0887\"], [0.1111111111111111, \"#46039f\"], [0.2222222222222222, \"#7201a8\"], [0.3333333333333333, \"#9c179e\"], [0.4444444444444444, \"#bd3786\"], [0.5555555555555556, \"#d8576b\"], [0.6666666666666666, \"#ed7953\"], [0.7777777777777778, \"#fb9f3a\"], [0.8888888888888888, \"#fdca26\"], [1.0, \"#f0f921\"]], \"type\": \"contour\"}], \"contourcarpet\": [{\"colorbar\": {\"outlinewidth\": 0, \"ticks\": \"\"}, \"type\": \"contourcarpet\"}], \"heatmap\": [{\"colorbar\": {\"outlinewidth\": 0, \"ticks\": \"\"}, \"colorscale\": [[0.0, \"#0d0887\"], [0.1111111111111111, \"#46039f\"], [0.2222222222222222, \"#7201a8\"], [0.3333333333333333, \"#9c179e\"], [0.4444444444444444, \"#bd3786\"], [0.5555555555555556, \"#d8576b\"], [0.6666666666666666, \"#ed7953\"], [0.7777777777777778, \"#fb9f3a\"], [0.8888888888888888, \"#fdca26\"], [1.0, \"#f0f921\"]], \"type\": \"heatmap\"}], \"heatmapgl\": [{\"colorbar\": {\"outlinewidth\": 0, \"ticks\": \"\"}, \"colorscale\": [[0.0, \"#0d0887\"], [0.1111111111111111, \"#46039f\"], [0.2222222222222222, \"#7201a8\"], [0.3333333333333333, \"#9c179e\"], [0.4444444444444444, \"#bd3786\"], [0.5555555555555556, \"#d8576b\"], [0.6666666666666666, \"#ed7953\"], [0.7777777777777778, \"#fb9f3a\"], [0.8888888888888888, \"#fdca26\"], [1.0, \"#f0f921\"]], \"type\": \"heatmapgl\"}], \"histogram\": [{\"marker\": {\"colorbar\": {\"outlinewidth\": 0, \"ticks\": \"\"}}, \"type\": \"histogram\"}], \"histogram2d\": [{\"colorbar\": {\"outlinewidth\": 0, \"ticks\": \"\"}, \"colorscale\": [[0.0, \"#0d0887\"], [0.1111111111111111, \"#46039f\"], [0.2222222222222222, \"#7201a8\"], [0.3333333333333333, \"#9c179e\"], [0.4444444444444444, \"#bd3786\"], [0.5555555555555556, \"#d8576b\"], [0.6666666666666666, \"#ed7953\"], [0.7777777777777778, \"#fb9f3a\"], [0.8888888888888888, \"#fdca26\"], [1.0, \"#f0f921\"]], \"type\": \"histogram2d\"}], \"histogram2dcontour\": [{\"colorbar\": {\"outlinewidth\": 0, \"ticks\": \"\"}, \"colorscale\": [[0.0, \"#0d0887\"], [0.1111111111111111, \"#46039f\"], [0.2222222222222222, \"#7201a8\"], [0.3333333333333333, \"#9c179e\"], [0.4444444444444444, \"#bd3786\"], [0.5555555555555556, \"#d8576b\"], [0.6666666666666666, \"#ed7953\"], [0.7777777777777778, \"#fb9f3a\"], [0.8888888888888888, \"#fdca26\"], [1.0, \"#f0f921\"]], \"type\": \"histogram2dcontour\"}], \"mesh3d\": [{\"colorbar\": {\"outlinewidth\": 0, \"ticks\": \"\"}, \"type\": \"mesh3d\"}], \"parcoords\": [{\"line\": {\"colorbar\": {\"outlinewidth\": 0, \"ticks\": \"\"}}, \"type\": \"parcoords\"}], \"pie\": [{\"automargin\": true, \"type\": \"pie\"}], \"scatter\": [{\"marker\": {\"colorbar\": {\"outlinewidth\": 0, \"ticks\": \"\"}}, \"type\": \"scatter\"}], \"scatter3d\": [{\"line\": {\"colorbar\": {\"outlinewidth\": 0, \"ticks\": \"\"}}, \"marker\": {\"colorbar\": {\"outlinewidth\": 0, \"ticks\": \"\"}}, \"type\": \"scatter3d\"}], \"scattercarpet\": [{\"marker\": {\"colorbar\": {\"outlinewidth\": 0, \"ticks\": \"\"}}, \"type\": \"scattercarpet\"}], \"scattergeo\": [{\"marker\": {\"colorbar\": {\"outlinewidth\": 0, \"ticks\": \"\"}}, \"type\": \"scattergeo\"}], \"scattergl\": [{\"marker\": {\"colorbar\": {\"outlinewidth\": 0, \"ticks\": \"\"}}, \"type\": \"scattergl\"}], \"scattermapbox\": [{\"marker\": {\"colorbar\": {\"outlinewidth\": 0, \"ticks\": \"\"}}, \"type\": \"scattermapbox\"}], \"scatterpolar\": [{\"marker\": {\"colorbar\": {\"outlinewidth\": 0, \"ticks\": \"\"}}, \"type\": \"scatterpolar\"}], \"scatterpolargl\": [{\"marker\": {\"colorbar\": {\"outlinewidth\": 0, \"ticks\": \"\"}}, \"type\": \"scatterpolargl\"}], \"scatterternary\": [{\"marker\": {\"colorbar\": {\"outlinewidth\": 0, \"ticks\": \"\"}}, \"type\": \"scatterternary\"}], \"surface\": [{\"colorbar\": {\"outlinewidth\": 0, \"ticks\": \"\"}, \"colorscale\": [[0.0, \"#0d0887\"], [0.1111111111111111, \"#46039f\"], [0.2222222222222222, \"#7201a8\"], [0.3333333333333333, \"#9c179e\"], [0.4444444444444444, \"#bd3786\"], [0.5555555555555556, \"#d8576b\"], [0.6666666666666666, \"#ed7953\"], [0.7777777777777778, \"#fb9f3a\"], [0.8888888888888888, \"#fdca26\"], [1.0, \"#f0f921\"]], \"type\": \"surface\"}], \"table\": [{\"cells\": {\"fill\": {\"color\": \"#EBF0F8\"}, \"line\": {\"color\": \"white\"}}, \"header\": {\"fill\": {\"color\": \"#C8D4E3\"}, \"line\": {\"color\": \"white\"}}, \"type\": \"table\"}]}, \"layout\": {\"annotationdefaults\": {\"arrowcolor\": \"#2a3f5f\", \"arrowhead\": 0, \"arrowwidth\": 1}, \"autotypenumbers\": \"strict\", \"coloraxis\": {\"colorbar\": {\"outlinewidth\": 0, \"ticks\": \"\"}}, \"colorscale\": {\"diverging\": [[0, \"#8e0152\"], [0.1, \"#c51b7d\"], [0.2, \"#de77ae\"], [0.3, \"#f1b6da\"], [0.4, \"#fde0ef\"], [0.5, \"#f7f7f7\"], [0.6, \"#e6f5d0\"], [0.7, \"#b8e186\"], [0.8, \"#7fbc41\"], [0.9, \"#4d9221\"], [1, \"#276419\"]], \"sequential\": [[0.0, \"#0d0887\"], [0.1111111111111111, \"#46039f\"], [0.2222222222222222, \"#7201a8\"], [0.3333333333333333, \"#9c179e\"], [0.4444444444444444, \"#bd3786\"], [0.5555555555555556, \"#d8576b\"], [0.6666666666666666, \"#ed7953\"], [0.7777777777777778, \"#fb9f3a\"], [0.8888888888888888, \"#fdca26\"], [1.0, \"#f0f921\"]], \"sequentialminus\": [[0.0, \"#0d0887\"], [0.1111111111111111, \"#46039f\"], [0.2222222222222222, \"#7201a8\"], [0.3333333333333333, \"#9c179e\"], [0.4444444444444444, \"#bd3786\"], [0.5555555555555556, \"#d8576b\"], [0.6666666666666666, \"#ed7953\"], [0.7777777777777778, \"#fb9f3a\"], [0.8888888888888888, \"#fdca26\"], [1.0, \"#f0f921\"]]}, \"colorway\": [\"#636efa\", \"#EF553B\", \"#00cc96\", \"#ab63fa\", \"#FFA15A\", \"#19d3f3\", \"#FF6692\", \"#B6E880\", \"#FF97FF\", \"#FECB52\"], \"font\": {\"color\": \"#2a3f5f\"}, \"geo\": {\"bgcolor\": \"white\", \"lakecolor\": \"white\", \"landcolor\": \"#E5ECF6\", \"showlakes\": true, \"showland\": true, \"subunitcolor\": \"white\"}, \"hoverlabel\": {\"align\": \"left\"}, \"hovermode\": \"closest\", \"mapbox\": {\"style\": \"light\"}, \"paper_bgcolor\": \"white\", \"plot_bgcolor\": \"#E5ECF6\", \"polar\": {\"angularaxis\": {\"gridcolor\": \"white\", \"linecolor\": \"white\", \"ticks\": \"\"}, \"bgcolor\": \"#E5ECF6\", \"radialaxis\": {\"gridcolor\": \"white\", \"linecolor\": \"white\", \"ticks\": \"\"}}, \"scene\": {\"xaxis\": {\"backgroundcolor\": \"#E5ECF6\", \"gridcolor\": \"white\", \"gridwidth\": 2, \"linecolor\": \"white\", \"showbackground\": true, \"ticks\": \"\", \"zerolinecolor\": \"white\"}, \"yaxis\": {\"backgroundcolor\": \"#E5ECF6\", \"gridcolor\": \"white\", \"gridwidth\": 2, \"linecolor\": \"white\", \"showbackground\": true, \"ticks\": \"\", \"zerolinecolor\": \"white\"}, \"zaxis\": {\"backgroundcolor\": \"#E5ECF6\", \"gridcolor\": \"white\", \"gridwidth\": 2, \"linecolor\": \"white\", \"showbackground\": true, \"ticks\": \"\", \"zerolinecolor\": \"white\"}}, \"shapedefaults\": {\"line\": {\"color\": \"#2a3f5f\"}}, \"ternary\": {\"aaxis\": {\"gridcolor\": \"white\", \"linecolor\": \"white\", \"ticks\": \"\"}, \"baxis\": {\"gridcolor\": \"white\", \"linecolor\": \"white\", \"ticks\": \"\"}, \"bgcolor\": \"#E5ECF6\", \"caxis\": {\"gridcolor\": \"white\", \"linecolor\": \"white\", \"ticks\": \"\"}}, \"title\": {\"x\": 0.05}, \"xaxis\": {\"automargin\": true, \"gridcolor\": \"white\", \"linecolor\": \"white\", \"ticks\": \"\", \"title\": {\"standoff\": 15}, \"zerolinecolor\": \"white\", \"zerolinewidth\": 2}, \"yaxis\": {\"automargin\": true, \"gridcolor\": \"white\", \"linecolor\": \"white\", \"ticks\": \"\", \"title\": {\"standoff\": 15}, \"zerolinecolor\": \"white\", \"zerolinewidth\": 2}}}},                        {\"responsive\": true}                    ).then(function(){\n",
       "                            \n",
       "var gd = document.getElementById('286019a1-8a1c-4377-9e23-46c98788ae70');\n",
       "var x = new MutationObserver(function (mutations, observer) {{\n",
       "        var display = window.getComputedStyle(gd).display;\n",
       "        if (!display || display === 'none') {{\n",
       "            console.log([gd, 'removed!']);\n",
       "            Plotly.purge(gd);\n",
       "            observer.disconnect();\n",
       "        }}\n",
       "}});\n",
       "\n",
       "// Listen for the removal of the full notebook cells\n",
       "var notebookContainer = gd.closest('#notebook-container');\n",
       "if (notebookContainer) {{\n",
       "    x.observe(notebookContainer, {childList: true});\n",
       "}}\n",
       "\n",
       "// Listen for the clearing of the current output cell\n",
       "var outputEl = gd.closest('.output');\n",
       "if (outputEl) {{\n",
       "    x.observe(outputEl, {childList: true});\n",
       "}}\n",
       "\n",
       "                        })                };                });            </script>        </div>"
      ]
     },
     "metadata": {},
     "output_type": "display_data"
    }
   ],
   "source": [
    "# Pie chart \n",
    "gas = ['Oxygen','Hydrogen','Carbon Dioxide','Nitrogen']\n",
    "volume = [4500,2500,1053,500]\n",
    "\n",
    "data = go.Pie(labels=gas, values=volume)\n",
    "fig = go.Figure([data])\n",
    "fig.show()\n",
    "fig.write_html(\"piechart.html\")"
   ]
  },
  {
   "cell_type": "code",
   "execution_count": 11,
   "id": "minor-activation",
   "metadata": {},
   "outputs": [
    {
     "data": {
      "application/vnd.plotly.v1+json": {
       "config": {
        "plotlyServerURL": "https://plot.ly"
       },
       "data": [
        {
         "marker": {
          "color": "rgb(10,10,255)"
         },
         "name": "SF Zoo",
         "type": "bar",
         "x": [
          "giraffes",
          "orangutans",
          "monkeys"
         ],
         "y": [
          20,
          14,
          23
         ]
        },
        {
         "marker": {
          "color": "rgb(139,0,0)"
         },
         "name": "LA Zoo",
         "type": "bar",
         "x": [
          "giraffes",
          "orangutans",
          "monkeys"
         ],
         "y": [
          12,
          18,
          29
         ]
        }
       ],
       "layout": {
        "barmode": "group",
        "template": {
         "data": {
          "bar": [
           {
            "error_x": {
             "color": "#2a3f5f"
            },
            "error_y": {
             "color": "#2a3f5f"
            },
            "marker": {
             "line": {
              "color": "#E5ECF6",
              "width": 0.5
             }
            },
            "type": "bar"
           }
          ],
          "barpolar": [
           {
            "marker": {
             "line": {
              "color": "#E5ECF6",
              "width": 0.5
             }
            },
            "type": "barpolar"
           }
          ],
          "carpet": [
           {
            "aaxis": {
             "endlinecolor": "#2a3f5f",
             "gridcolor": "white",
             "linecolor": "white",
             "minorgridcolor": "white",
             "startlinecolor": "#2a3f5f"
            },
            "baxis": {
             "endlinecolor": "#2a3f5f",
             "gridcolor": "white",
             "linecolor": "white",
             "minorgridcolor": "white",
             "startlinecolor": "#2a3f5f"
            },
            "type": "carpet"
           }
          ],
          "choropleth": [
           {
            "colorbar": {
             "outlinewidth": 0,
             "ticks": ""
            },
            "type": "choropleth"
           }
          ],
          "contour": [
           {
            "colorbar": {
             "outlinewidth": 0,
             "ticks": ""
            },
            "colorscale": [
             [
              0,
              "#0d0887"
             ],
             [
              0.1111111111111111,
              "#46039f"
             ],
             [
              0.2222222222222222,
              "#7201a8"
             ],
             [
              0.3333333333333333,
              "#9c179e"
             ],
             [
              0.4444444444444444,
              "#bd3786"
             ],
             [
              0.5555555555555556,
              "#d8576b"
             ],
             [
              0.6666666666666666,
              "#ed7953"
             ],
             [
              0.7777777777777778,
              "#fb9f3a"
             ],
             [
              0.8888888888888888,
              "#fdca26"
             ],
             [
              1,
              "#f0f921"
             ]
            ],
            "type": "contour"
           }
          ],
          "contourcarpet": [
           {
            "colorbar": {
             "outlinewidth": 0,
             "ticks": ""
            },
            "type": "contourcarpet"
           }
          ],
          "heatmap": [
           {
            "colorbar": {
             "outlinewidth": 0,
             "ticks": ""
            },
            "colorscale": [
             [
              0,
              "#0d0887"
             ],
             [
              0.1111111111111111,
              "#46039f"
             ],
             [
              0.2222222222222222,
              "#7201a8"
             ],
             [
              0.3333333333333333,
              "#9c179e"
             ],
             [
              0.4444444444444444,
              "#bd3786"
             ],
             [
              0.5555555555555556,
              "#d8576b"
             ],
             [
              0.6666666666666666,
              "#ed7953"
             ],
             [
              0.7777777777777778,
              "#fb9f3a"
             ],
             [
              0.8888888888888888,
              "#fdca26"
             ],
             [
              1,
              "#f0f921"
             ]
            ],
            "type": "heatmap"
           }
          ],
          "heatmapgl": [
           {
            "colorbar": {
             "outlinewidth": 0,
             "ticks": ""
            },
            "colorscale": [
             [
              0,
              "#0d0887"
             ],
             [
              0.1111111111111111,
              "#46039f"
             ],
             [
              0.2222222222222222,
              "#7201a8"
             ],
             [
              0.3333333333333333,
              "#9c179e"
             ],
             [
              0.4444444444444444,
              "#bd3786"
             ],
             [
              0.5555555555555556,
              "#d8576b"
             ],
             [
              0.6666666666666666,
              "#ed7953"
             ],
             [
              0.7777777777777778,
              "#fb9f3a"
             ],
             [
              0.8888888888888888,
              "#fdca26"
             ],
             [
              1,
              "#f0f921"
             ]
            ],
            "type": "heatmapgl"
           }
          ],
          "histogram": [
           {
            "marker": {
             "colorbar": {
              "outlinewidth": 0,
              "ticks": ""
             }
            },
            "type": "histogram"
           }
          ],
          "histogram2d": [
           {
            "colorbar": {
             "outlinewidth": 0,
             "ticks": ""
            },
            "colorscale": [
             [
              0,
              "#0d0887"
             ],
             [
              0.1111111111111111,
              "#46039f"
             ],
             [
              0.2222222222222222,
              "#7201a8"
             ],
             [
              0.3333333333333333,
              "#9c179e"
             ],
             [
              0.4444444444444444,
              "#bd3786"
             ],
             [
              0.5555555555555556,
              "#d8576b"
             ],
             [
              0.6666666666666666,
              "#ed7953"
             ],
             [
              0.7777777777777778,
              "#fb9f3a"
             ],
             [
              0.8888888888888888,
              "#fdca26"
             ],
             [
              1,
              "#f0f921"
             ]
            ],
            "type": "histogram2d"
           }
          ],
          "histogram2dcontour": [
           {
            "colorbar": {
             "outlinewidth": 0,
             "ticks": ""
            },
            "colorscale": [
             [
              0,
              "#0d0887"
             ],
             [
              0.1111111111111111,
              "#46039f"
             ],
             [
              0.2222222222222222,
              "#7201a8"
             ],
             [
              0.3333333333333333,
              "#9c179e"
             ],
             [
              0.4444444444444444,
              "#bd3786"
             ],
             [
              0.5555555555555556,
              "#d8576b"
             ],
             [
              0.6666666666666666,
              "#ed7953"
             ],
             [
              0.7777777777777778,
              "#fb9f3a"
             ],
             [
              0.8888888888888888,
              "#fdca26"
             ],
             [
              1,
              "#f0f921"
             ]
            ],
            "type": "histogram2dcontour"
           }
          ],
          "mesh3d": [
           {
            "colorbar": {
             "outlinewidth": 0,
             "ticks": ""
            },
            "type": "mesh3d"
           }
          ],
          "parcoords": [
           {
            "line": {
             "colorbar": {
              "outlinewidth": 0,
              "ticks": ""
             }
            },
            "type": "parcoords"
           }
          ],
          "pie": [
           {
            "automargin": true,
            "type": "pie"
           }
          ],
          "scatter": [
           {
            "marker": {
             "colorbar": {
              "outlinewidth": 0,
              "ticks": ""
             }
            },
            "type": "scatter"
           }
          ],
          "scatter3d": [
           {
            "line": {
             "colorbar": {
              "outlinewidth": 0,
              "ticks": ""
             }
            },
            "marker": {
             "colorbar": {
              "outlinewidth": 0,
              "ticks": ""
             }
            },
            "type": "scatter3d"
           }
          ],
          "scattercarpet": [
           {
            "marker": {
             "colorbar": {
              "outlinewidth": 0,
              "ticks": ""
             }
            },
            "type": "scattercarpet"
           }
          ],
          "scattergeo": [
           {
            "marker": {
             "colorbar": {
              "outlinewidth": 0,
              "ticks": ""
             }
            },
            "type": "scattergeo"
           }
          ],
          "scattergl": [
           {
            "marker": {
             "colorbar": {
              "outlinewidth": 0,
              "ticks": ""
             }
            },
            "type": "scattergl"
           }
          ],
          "scattermapbox": [
           {
            "marker": {
             "colorbar": {
              "outlinewidth": 0,
              "ticks": ""
             }
            },
            "type": "scattermapbox"
           }
          ],
          "scatterpolar": [
           {
            "marker": {
             "colorbar": {
              "outlinewidth": 0,
              "ticks": ""
             }
            },
            "type": "scatterpolar"
           }
          ],
          "scatterpolargl": [
           {
            "marker": {
             "colorbar": {
              "outlinewidth": 0,
              "ticks": ""
             }
            },
            "type": "scatterpolargl"
           }
          ],
          "scatterternary": [
           {
            "marker": {
             "colorbar": {
              "outlinewidth": 0,
              "ticks": ""
             }
            },
            "type": "scatterternary"
           }
          ],
          "surface": [
           {
            "colorbar": {
             "outlinewidth": 0,
             "ticks": ""
            },
            "colorscale": [
             [
              0,
              "#0d0887"
             ],
             [
              0.1111111111111111,
              "#46039f"
             ],
             [
              0.2222222222222222,
              "#7201a8"
             ],
             [
              0.3333333333333333,
              "#9c179e"
             ],
             [
              0.4444444444444444,
              "#bd3786"
             ],
             [
              0.5555555555555556,
              "#d8576b"
             ],
             [
              0.6666666666666666,
              "#ed7953"
             ],
             [
              0.7777777777777778,
              "#fb9f3a"
             ],
             [
              0.8888888888888888,
              "#fdca26"
             ],
             [
              1,
              "#f0f921"
             ]
            ],
            "type": "surface"
           }
          ],
          "table": [
           {
            "cells": {
             "fill": {
              "color": "#EBF0F8"
             },
             "line": {
              "color": "white"
             }
            },
            "header": {
             "fill": {
              "color": "#C8D4E3"
             },
             "line": {
              "color": "white"
             }
            },
            "type": "table"
           }
          ]
         },
         "layout": {
          "annotationdefaults": {
           "arrowcolor": "#2a3f5f",
           "arrowhead": 0,
           "arrowwidth": 1
          },
          "autotypenumbers": "strict",
          "coloraxis": {
           "colorbar": {
            "outlinewidth": 0,
            "ticks": ""
           }
          },
          "colorscale": {
           "diverging": [
            [
             0,
             "#8e0152"
            ],
            [
             0.1,
             "#c51b7d"
            ],
            [
             0.2,
             "#de77ae"
            ],
            [
             0.3,
             "#f1b6da"
            ],
            [
             0.4,
             "#fde0ef"
            ],
            [
             0.5,
             "#f7f7f7"
            ],
            [
             0.6,
             "#e6f5d0"
            ],
            [
             0.7,
             "#b8e186"
            ],
            [
             0.8,
             "#7fbc41"
            ],
            [
             0.9,
             "#4d9221"
            ],
            [
             1,
             "#276419"
            ]
           ],
           "sequential": [
            [
             0,
             "#0d0887"
            ],
            [
             0.1111111111111111,
             "#46039f"
            ],
            [
             0.2222222222222222,
             "#7201a8"
            ],
            [
             0.3333333333333333,
             "#9c179e"
            ],
            [
             0.4444444444444444,
             "#bd3786"
            ],
            [
             0.5555555555555556,
             "#d8576b"
            ],
            [
             0.6666666666666666,
             "#ed7953"
            ],
            [
             0.7777777777777778,
             "#fb9f3a"
            ],
            [
             0.8888888888888888,
             "#fdca26"
            ],
            [
             1,
             "#f0f921"
            ]
           ],
           "sequentialminus": [
            [
             0,
             "#0d0887"
            ],
            [
             0.1111111111111111,
             "#46039f"
            ],
            [
             0.2222222222222222,
             "#7201a8"
            ],
            [
             0.3333333333333333,
             "#9c179e"
            ],
            [
             0.4444444444444444,
             "#bd3786"
            ],
            [
             0.5555555555555556,
             "#d8576b"
            ],
            [
             0.6666666666666666,
             "#ed7953"
            ],
            [
             0.7777777777777778,
             "#fb9f3a"
            ],
            [
             0.8888888888888888,
             "#fdca26"
            ],
            [
             1,
             "#f0f921"
            ]
           ]
          },
          "colorway": [
           "#636efa",
           "#EF553B",
           "#00cc96",
           "#ab63fa",
           "#FFA15A",
           "#19d3f3",
           "#FF6692",
           "#B6E880",
           "#FF97FF",
           "#FECB52"
          ],
          "font": {
           "color": "#2a3f5f"
          },
          "geo": {
           "bgcolor": "white",
           "lakecolor": "white",
           "landcolor": "#E5ECF6",
           "showlakes": true,
           "showland": true,
           "subunitcolor": "white"
          },
          "hoverlabel": {
           "align": "left"
          },
          "hovermode": "closest",
          "mapbox": {
           "style": "light"
          },
          "paper_bgcolor": "white",
          "plot_bgcolor": "#E5ECF6",
          "polar": {
           "angularaxis": {
            "gridcolor": "white",
            "linecolor": "white",
            "ticks": ""
           },
           "bgcolor": "#E5ECF6",
           "radialaxis": {
            "gridcolor": "white",
            "linecolor": "white",
            "ticks": ""
           }
          },
          "scene": {
           "xaxis": {
            "backgroundcolor": "#E5ECF6",
            "gridcolor": "white",
            "gridwidth": 2,
            "linecolor": "white",
            "showbackground": true,
            "ticks": "",
            "zerolinecolor": "white"
           },
           "yaxis": {
            "backgroundcolor": "#E5ECF6",
            "gridcolor": "white",
            "gridwidth": 2,
            "linecolor": "white",
            "showbackground": true,
            "ticks": "",
            "zerolinecolor": "white"
           },
           "zaxis": {
            "backgroundcolor": "#E5ECF6",
            "gridcolor": "white",
            "gridwidth": 2,
            "linecolor": "white",
            "showbackground": true,
            "ticks": "",
            "zerolinecolor": "white"
           }
          },
          "shapedefaults": {
           "line": {
            "color": "#2a3f5f"
           }
          },
          "ternary": {
           "aaxis": {
            "gridcolor": "white",
            "linecolor": "white",
            "ticks": ""
           },
           "baxis": {
            "gridcolor": "white",
            "linecolor": "white",
            "ticks": ""
           },
           "bgcolor": "#E5ECF6",
           "caxis": {
            "gridcolor": "white",
            "linecolor": "white",
            "ticks": ""
           }
          },
          "title": {
           "x": 0.05
          },
          "xaxis": {
           "automargin": true,
           "gridcolor": "white",
           "linecolor": "white",
           "ticks": "",
           "title": {
            "standoff": 15
           },
           "zerolinecolor": "white",
           "zerolinewidth": 2
          },
          "yaxis": {
           "automargin": true,
           "gridcolor": "white",
           "linecolor": "white",
           "ticks": "",
           "title": {
            "standoff": 15
           },
           "zerolinecolor": "white",
           "zerolinewidth": 2
          }
         }
        }
       }
      },
      "text/html": [
       "<div>                            <div id=\"348a20e8-a966-4907-bfa0-3f9b69830ff5\" class=\"plotly-graph-div\" style=\"height:525px; width:100%;\"></div>            <script type=\"text/javascript\">                require([\"plotly\"], function(Plotly) {                    window.PLOTLYENV=window.PLOTLYENV || {};                                    if (document.getElementById(\"348a20e8-a966-4907-bfa0-3f9b69830ff5\")) {                    Plotly.newPlot(                        \"348a20e8-a966-4907-bfa0-3f9b69830ff5\",                        [{\"marker\": {\"color\": \"rgb(10,10,255)\"}, \"name\": \"SF Zoo\", \"type\": \"bar\", \"x\": [\"giraffes\", \"orangutans\", \"monkeys\"], \"y\": [20, 14, 23]}, {\"marker\": {\"color\": \"rgb(139,0,0)\"}, \"name\": \"LA Zoo\", \"type\": \"bar\", \"x\": [\"giraffes\", \"orangutans\", \"monkeys\"], \"y\": [12, 18, 29]}],                        {\"barmode\": \"group\", \"template\": {\"data\": {\"bar\": [{\"error_x\": {\"color\": \"#2a3f5f\"}, \"error_y\": {\"color\": \"#2a3f5f\"}, \"marker\": {\"line\": {\"color\": \"#E5ECF6\", \"width\": 0.5}}, \"type\": \"bar\"}], \"barpolar\": [{\"marker\": {\"line\": {\"color\": \"#E5ECF6\", \"width\": 0.5}}, \"type\": \"barpolar\"}], \"carpet\": [{\"aaxis\": {\"endlinecolor\": \"#2a3f5f\", \"gridcolor\": \"white\", \"linecolor\": \"white\", \"minorgridcolor\": \"white\", \"startlinecolor\": \"#2a3f5f\"}, \"baxis\": {\"endlinecolor\": \"#2a3f5f\", \"gridcolor\": \"white\", \"linecolor\": \"white\", \"minorgridcolor\": \"white\", \"startlinecolor\": \"#2a3f5f\"}, \"type\": \"carpet\"}], \"choropleth\": [{\"colorbar\": {\"outlinewidth\": 0, \"ticks\": \"\"}, \"type\": \"choropleth\"}], \"contour\": [{\"colorbar\": {\"outlinewidth\": 0, \"ticks\": \"\"}, \"colorscale\": [[0.0, \"#0d0887\"], [0.1111111111111111, \"#46039f\"], [0.2222222222222222, \"#7201a8\"], [0.3333333333333333, \"#9c179e\"], [0.4444444444444444, \"#bd3786\"], [0.5555555555555556, \"#d8576b\"], [0.6666666666666666, \"#ed7953\"], [0.7777777777777778, \"#fb9f3a\"], [0.8888888888888888, \"#fdca26\"], [1.0, \"#f0f921\"]], \"type\": \"contour\"}], \"contourcarpet\": [{\"colorbar\": {\"outlinewidth\": 0, \"ticks\": \"\"}, \"type\": \"contourcarpet\"}], \"heatmap\": [{\"colorbar\": {\"outlinewidth\": 0, \"ticks\": \"\"}, \"colorscale\": [[0.0, \"#0d0887\"], [0.1111111111111111, \"#46039f\"], [0.2222222222222222, \"#7201a8\"], [0.3333333333333333, \"#9c179e\"], [0.4444444444444444, \"#bd3786\"], [0.5555555555555556, \"#d8576b\"], [0.6666666666666666, \"#ed7953\"], [0.7777777777777778, \"#fb9f3a\"], [0.8888888888888888, \"#fdca26\"], [1.0, \"#f0f921\"]], \"type\": \"heatmap\"}], \"heatmapgl\": [{\"colorbar\": {\"outlinewidth\": 0, \"ticks\": \"\"}, \"colorscale\": [[0.0, \"#0d0887\"], [0.1111111111111111, \"#46039f\"], [0.2222222222222222, \"#7201a8\"], [0.3333333333333333, \"#9c179e\"], [0.4444444444444444, \"#bd3786\"], [0.5555555555555556, \"#d8576b\"], [0.6666666666666666, \"#ed7953\"], [0.7777777777777778, \"#fb9f3a\"], [0.8888888888888888, \"#fdca26\"], [1.0, \"#f0f921\"]], \"type\": \"heatmapgl\"}], \"histogram\": [{\"marker\": {\"colorbar\": {\"outlinewidth\": 0, \"ticks\": \"\"}}, \"type\": \"histogram\"}], \"histogram2d\": [{\"colorbar\": {\"outlinewidth\": 0, \"ticks\": \"\"}, \"colorscale\": [[0.0, \"#0d0887\"], [0.1111111111111111, \"#46039f\"], [0.2222222222222222, \"#7201a8\"], [0.3333333333333333, \"#9c179e\"], [0.4444444444444444, \"#bd3786\"], [0.5555555555555556, \"#d8576b\"], [0.6666666666666666, \"#ed7953\"], [0.7777777777777778, \"#fb9f3a\"], [0.8888888888888888, \"#fdca26\"], [1.0, \"#f0f921\"]], \"type\": \"histogram2d\"}], \"histogram2dcontour\": [{\"colorbar\": {\"outlinewidth\": 0, \"ticks\": \"\"}, \"colorscale\": [[0.0, \"#0d0887\"], [0.1111111111111111, \"#46039f\"], [0.2222222222222222, \"#7201a8\"], [0.3333333333333333, \"#9c179e\"], [0.4444444444444444, \"#bd3786\"], [0.5555555555555556, \"#d8576b\"], [0.6666666666666666, \"#ed7953\"], [0.7777777777777778, \"#fb9f3a\"], [0.8888888888888888, \"#fdca26\"], [1.0, \"#f0f921\"]], \"type\": \"histogram2dcontour\"}], \"mesh3d\": [{\"colorbar\": {\"outlinewidth\": 0, \"ticks\": \"\"}, \"type\": \"mesh3d\"}], \"parcoords\": [{\"line\": {\"colorbar\": {\"outlinewidth\": 0, \"ticks\": \"\"}}, \"type\": \"parcoords\"}], \"pie\": [{\"automargin\": true, \"type\": \"pie\"}], \"scatter\": [{\"marker\": {\"colorbar\": {\"outlinewidth\": 0, \"ticks\": \"\"}}, \"type\": \"scatter\"}], \"scatter3d\": [{\"line\": {\"colorbar\": {\"outlinewidth\": 0, \"ticks\": \"\"}}, \"marker\": {\"colorbar\": {\"outlinewidth\": 0, \"ticks\": \"\"}}, \"type\": \"scatter3d\"}], \"scattercarpet\": [{\"marker\": {\"colorbar\": {\"outlinewidth\": 0, \"ticks\": \"\"}}, \"type\": \"scattercarpet\"}], \"scattergeo\": [{\"marker\": {\"colorbar\": {\"outlinewidth\": 0, \"ticks\": \"\"}}, \"type\": \"scattergeo\"}], \"scattergl\": [{\"marker\": {\"colorbar\": {\"outlinewidth\": 0, \"ticks\": \"\"}}, \"type\": \"scattergl\"}], \"scattermapbox\": [{\"marker\": {\"colorbar\": {\"outlinewidth\": 0, \"ticks\": \"\"}}, \"type\": \"scattermapbox\"}], \"scatterpolar\": [{\"marker\": {\"colorbar\": {\"outlinewidth\": 0, \"ticks\": \"\"}}, \"type\": \"scatterpolar\"}], \"scatterpolargl\": [{\"marker\": {\"colorbar\": {\"outlinewidth\": 0, \"ticks\": \"\"}}, \"type\": \"scatterpolargl\"}], \"scatterternary\": [{\"marker\": {\"colorbar\": {\"outlinewidth\": 0, \"ticks\": \"\"}}, \"type\": \"scatterternary\"}], \"surface\": [{\"colorbar\": {\"outlinewidth\": 0, \"ticks\": \"\"}, \"colorscale\": [[0.0, \"#0d0887\"], [0.1111111111111111, \"#46039f\"], [0.2222222222222222, \"#7201a8\"], [0.3333333333333333, \"#9c179e\"], [0.4444444444444444, \"#bd3786\"], [0.5555555555555556, \"#d8576b\"], [0.6666666666666666, \"#ed7953\"], [0.7777777777777778, \"#fb9f3a\"], [0.8888888888888888, \"#fdca26\"], [1.0, \"#f0f921\"]], \"type\": \"surface\"}], \"table\": [{\"cells\": {\"fill\": {\"color\": \"#EBF0F8\"}, \"line\": {\"color\": \"white\"}}, \"header\": {\"fill\": {\"color\": \"#C8D4E3\"}, \"line\": {\"color\": \"white\"}}, \"type\": \"table\"}]}, \"layout\": {\"annotationdefaults\": {\"arrowcolor\": \"#2a3f5f\", \"arrowhead\": 0, \"arrowwidth\": 1}, \"autotypenumbers\": \"strict\", \"coloraxis\": {\"colorbar\": {\"outlinewidth\": 0, \"ticks\": \"\"}}, \"colorscale\": {\"diverging\": [[0, \"#8e0152\"], [0.1, \"#c51b7d\"], [0.2, \"#de77ae\"], [0.3, \"#f1b6da\"], [0.4, \"#fde0ef\"], [0.5, \"#f7f7f7\"], [0.6, \"#e6f5d0\"], [0.7, \"#b8e186\"], [0.8, \"#7fbc41\"], [0.9, \"#4d9221\"], [1, \"#276419\"]], \"sequential\": [[0.0, \"#0d0887\"], [0.1111111111111111, \"#46039f\"], [0.2222222222222222, \"#7201a8\"], [0.3333333333333333, \"#9c179e\"], [0.4444444444444444, \"#bd3786\"], [0.5555555555555556, \"#d8576b\"], [0.6666666666666666, \"#ed7953\"], [0.7777777777777778, \"#fb9f3a\"], [0.8888888888888888, \"#fdca26\"], [1.0, \"#f0f921\"]], \"sequentialminus\": [[0.0, \"#0d0887\"], [0.1111111111111111, \"#46039f\"], [0.2222222222222222, \"#7201a8\"], [0.3333333333333333, \"#9c179e\"], [0.4444444444444444, \"#bd3786\"], [0.5555555555555556, \"#d8576b\"], [0.6666666666666666, \"#ed7953\"], [0.7777777777777778, \"#fb9f3a\"], [0.8888888888888888, \"#fdca26\"], [1.0, \"#f0f921\"]]}, \"colorway\": [\"#636efa\", \"#EF553B\", \"#00cc96\", \"#ab63fa\", \"#FFA15A\", \"#19d3f3\", \"#FF6692\", \"#B6E880\", \"#FF97FF\", \"#FECB52\"], \"font\": {\"color\": \"#2a3f5f\"}, \"geo\": {\"bgcolor\": \"white\", \"lakecolor\": \"white\", \"landcolor\": \"#E5ECF6\", \"showlakes\": true, \"showland\": true, \"subunitcolor\": \"white\"}, \"hoverlabel\": {\"align\": \"left\"}, \"hovermode\": \"closest\", \"mapbox\": {\"style\": \"light\"}, \"paper_bgcolor\": \"white\", \"plot_bgcolor\": \"#E5ECF6\", \"polar\": {\"angularaxis\": {\"gridcolor\": \"white\", \"linecolor\": \"white\", \"ticks\": \"\"}, \"bgcolor\": \"#E5ECF6\", \"radialaxis\": {\"gridcolor\": \"white\", \"linecolor\": \"white\", \"ticks\": \"\"}}, \"scene\": {\"xaxis\": {\"backgroundcolor\": \"#E5ECF6\", \"gridcolor\": \"white\", \"gridwidth\": 2, \"linecolor\": \"white\", \"showbackground\": true, \"ticks\": \"\", \"zerolinecolor\": \"white\"}, \"yaxis\": {\"backgroundcolor\": \"#E5ECF6\", \"gridcolor\": \"white\", \"gridwidth\": 2, \"linecolor\": \"white\", \"showbackground\": true, \"ticks\": \"\", \"zerolinecolor\": \"white\"}, \"zaxis\": {\"backgroundcolor\": \"#E5ECF6\", \"gridcolor\": \"white\", \"gridwidth\": 2, \"linecolor\": \"white\", \"showbackground\": true, \"ticks\": \"\", \"zerolinecolor\": \"white\"}}, \"shapedefaults\": {\"line\": {\"color\": \"#2a3f5f\"}}, \"ternary\": {\"aaxis\": {\"gridcolor\": \"white\", \"linecolor\": \"white\", \"ticks\": \"\"}, \"baxis\": {\"gridcolor\": \"white\", \"linecolor\": \"white\", \"ticks\": \"\"}, \"bgcolor\": \"#E5ECF6\", \"caxis\": {\"gridcolor\": \"white\", \"linecolor\": \"white\", \"ticks\": \"\"}}, \"title\": {\"x\": 0.05}, \"xaxis\": {\"automargin\": true, \"gridcolor\": \"white\", \"linecolor\": \"white\", \"ticks\": \"\", \"title\": {\"standoff\": 15}, \"zerolinecolor\": \"white\", \"zerolinewidth\": 2}, \"yaxis\": {\"automargin\": true, \"gridcolor\": \"white\", \"linecolor\": \"white\", \"ticks\": \"\", \"title\": {\"standoff\": 15}, \"zerolinecolor\": \"white\", \"zerolinewidth\": 2}}}},                        {\"responsive\": true}                    ).then(function(){\n",
       "                            \n",
       "var gd = document.getElementById('348a20e8-a966-4907-bfa0-3f9b69830ff5');\n",
       "var x = new MutationObserver(function (mutations, observer) {{\n",
       "        var display = window.getComputedStyle(gd).display;\n",
       "        if (!display || display === 'none') {{\n",
       "            console.log([gd, 'removed!']);\n",
       "            Plotly.purge(gd);\n",
       "            observer.disconnect();\n",
       "        }}\n",
       "}});\n",
       "\n",
       "// Listen for the removal of the full notebook cells\n",
       "var notebookContainer = gd.closest('#notebook-container');\n",
       "if (notebookContainer) {{\n",
       "    x.observe(notebookContainer, {childList: true});\n",
       "}}\n",
       "\n",
       "// Listen for the clearing of the current output cell\n",
       "var outputEl = gd.closest('.output');\n",
       "if (outputEl) {{\n",
       "    x.observe(outputEl, {childList: true});\n",
       "}}\n",
       "\n",
       "                        })                };                });            </script>        </div>"
      ]
     },
     "metadata": {},
     "output_type": "display_data"
    }
   ],
   "source": [
    "# Grouped bar chart\n",
    "trace1 = go.Bar(\n",
    "    x=['giraffes', 'orangutans', 'monkeys'],\n",
    "    y=[20, 14, 23],\n",
    "    name='SF Zoo',\n",
    "    marker=dict(color='rgb(10,10,255)')\n",
    ")\n",
    "trace2 = go.Bar(\n",
    "    x=['giraffes', 'orangutans', 'monkeys'],\n",
    "    y=[12, 18, 29],\n",
    "    name='LA Zoo',\n",
    "    marker=dict(color='rgb(139,0,0)')\n",
    ")\n",
    "\n",
    "data = [trace1, trace2]\n",
    "layout = go.Layout(\n",
    "    barmode='group'\n",
    ")\n",
    "\n",
    "fig = go.Figure(data=data, layout=layout)\n",
    "fig.show()\n",
    "fig.write_html(\"barchart.html\")"
   ]
  },
  {
   "cell_type": "code",
   "execution_count": 12,
   "id": "fleet-adoption",
   "metadata": {},
   "outputs": [
    {
     "data": {
      "application/vnd.plotly.v1+json": {
       "config": {
        "plotlyServerURL": "https://plot.ly"
       },
       "data": [
        {
         "marker": {
          "color": [
           1.796376180772925,
           -0.37715123199106165,
           -0.5092838879607922,
           -1.223688886806172,
           1.8168706074368755,
           -0.3180873882241988,
           -0.2871876593049238,
           0.3089283626574168,
           1.2682981937224302,
           1.1263639800939098,
           -1.5730448379364597,
           0.03560236481971528,
           0.42198297882507113,
           -1.0720179284439355,
           -1.893726210140736,
           -1.6076062191302452,
           0.31328339838930186,
           0.03599370211978151,
           1.5993537243662699,
           1.4010700527537323,
           -0.036456468368129206,
           0.17547369303789906,
           -1.4877695231251413,
           -1.7763136902510506,
           1.0764040525271519,
           1.0984827949224225,
           0.6425743988263728,
           -0.7167858906830477,
           2.327600503303021,
           -1.1483068786490194,
           1.0441834875070668,
           -0.272025473643102,
           2.190119638375137,
           0.6319535591098651,
           0.5413599940313886,
           1.229515422333657,
           -0.8039331076698787,
           -0.4910370541911496,
           0.18385314173034378,
           0.758701398294147,
           -1.1313244351843383,
           1.2419817338252537,
           0.8806386804572897,
           -0.35189496546864957,
           0.4751724427735081,
           0.32043369623408324,
           -1.6535495142166763,
           0.9358228082993154,
           1.395509288802095,
           -0.9827475156762807,
           -1.313620776577919,
           -0.4649737354300178,
           -0.485129662457294,
           1.0764583938955825,
           0.4642144872432875,
           -0.7305892602028259,
           -1.4288863976618853,
           -1.4638798841358522,
           -0.7754382878946826,
           -0.05705793063442328,
           0.28416040600043574,
           -1.1594055534735443,
           -0.8481171473349538,
           0.034553290673698195,
           -0.5404737281873615,
           0.5579522284846914,
           -0.4865988689548036,
           -1.3742685650415973,
           0.9499630355081657,
           -0.13389135556134404,
           -0.9954801830691593,
           -0.3848629334478679,
           1.0640378512800808,
           -0.9796370266326547,
           -1.2939179339646598,
           0.39239875719550255,
           -0.10259443801618827,
           -0.43243961013651666,
           0.7988282862014374,
           -0.5132911792342296,
           0.32418399048937824,
           -0.19208004215468177,
           0.6234673699012487,
           -0.9982529600284282,
           0.37201261710532524,
           -0.15642577678830025,
           0.825293551347344,
           -1.9854691594343,
           -2.2355047501107568,
           -0.06643575221390192,
           0.5313805463420507,
           -0.35136140704009544,
           1.0335884275847937,
           -1.6184724148738274,
           1.3574922675333152,
           -0.15054980312650285,
           -0.5515929111080168,
           -0.0948438882039881,
           -1.438235009908603,
           -1.8374714944205854,
           0.5273997170218973,
           0.07159507797220059,
           -0.18061705596944025,
           1.185707524897844,
           -0.46554499677024674,
           0.2138210915918794,
           -0.5799846094023057,
           0.862842704020064,
           -1.5261054987017428,
           0.3780977059145406,
           -0.8494523397651103,
           0.9646146486278337,
           -1.1563441482329204,
           -0.9118989070461819,
           -1.1244615056671903,
           -0.47303380763708835,
           0.4788946369969252,
           0.7408536291088366,
           0.19897418972499953,
           0.051823982926439055,
           0.1389251689451768,
           -1.242485828302023,
           0.018457907303467597,
           -0.0902568848017239,
           -0.18335447064062327,
           0.40761704747123545,
           -0.17265317085989898,
           1.5099682085549044,
           -0.9242074191151259,
           -0.3177030788581637,
           0.2686593950419671,
           1.4446449861111488,
           -0.18607389031542204,
           -0.008862936449070293,
           0.3587043121730139,
           -1.1251428094090115,
           -0.6713166748780858,
           0.39296285561195576,
           -0.3042065854909925,
           1.3824287245425122,
           -0.3986153455106159,
           0.8335090180710666,
           1.156469194144273,
           1.6837772454961364,
           -0.32007298835697834,
           -0.05971849214382661,
           0.8084070589913317,
           -0.21365841863171772,
           -0.03810686218151364,
           -0.26471337493531427,
           0.20914812247754008,
           1.7875968797048696,
           1.5947152003805445,
           -0.25175815230412524,
           -2.053572594098875,
           -2.130104280922004,
           2.95142110198759,
           -1.1970301736693876,
           -0.3506015540670263,
           0.11686883683683197,
           1.188909803734941,
           0.019302376002870623,
           1.6847402274495007,
           -0.9315095191161851,
           0.5529956658998418,
           1.33174100896251,
           -1.0525743079920766,
           -1.5634521044833756,
           0.6944922078279387,
           -0.5376304978636712,
           2.115034044346681,
           -1.5107742147152845,
           0.578308868250185,
           0.7828395559986614,
           -1.0956212825783296,
           0.09138385759080095,
           -1.4051425972624123,
           1.3383597167876595,
           0.8547119513867533,
           0.3896753457784521,
           0.5168177506447826,
           -1.6526880443710774,
           -0.30560939929513337,
           -0.7522608395593167,
           -1.1485959502056957,
           0.8214109414382236,
           0.8497989943920153,
           0.3433237137638355,
           0.30059583883852514,
           0.28952954213462023,
           0.1273027874923666,
           -1.0740744291109106,
           -0.763006229675341,
           -0.05610615996514246,
           -1.0148766228307025,
           -0.386162179849558,
           -0.8678992057814211,
           0.4546542488174672,
           -0.6258589636789549,
           0.7254619506645711,
           -0.31636841479744887,
           0.2483985811546636,
           0.6569947849503304,
           -0.08122279557121169,
           -0.04124907939867159,
           0.8089362598474182,
           -0.4721194470758464,
           0.6957329850379066,
           -0.7258759487003338,
           1.1069037038511025,
           -0.27429151720545675,
           0.8994391563380881,
           1.7710869663258892,
           0.7955154363650758,
           0.9804182420778309,
           1.2128904496208877,
           -2.2380235343180392,
           2.2323595670495346,
           -0.12272249836211135,
           -0.8616983970777305,
           0.9867687533683929,
           -0.023103604557684277,
           -0.45523096826282355,
           2.7673305515650144,
           0.08190966012876326,
           -1.9738499951935902,
           0.10026083472919516,
           -2.152919693704157,
           0.22032379776268363,
           0.6947458207388713,
           0.075848520109818,
           -0.3698501217354854,
           1.683164254615985,
           0.19044551565036474,
           0.17639069507560065,
           -0.9229905010593953,
           0.3168904854872586,
           -1.090069111201334,
           0.752592019380868,
           0.40641840713599126,
           -0.45955789076308645,
           -1.7761369002117233,
           -1.3210793353937538,
           0.2854639974100201,
           1.1380910462647573,
           -0.49044494291187835,
           -0.04321283741611029,
           0.9508532899484748,
           1.3466593064668826,
           -1.7381786703298174,
           -0.5511004853639307,
           -0.2700841021866831,
           -0.32482239851566197,
           -1.4369378830500399,
           -0.6119908411723317,
           -0.9590656198894884,
           1.1116472197291514,
           0.4211812380554957,
           1.0059249163140012,
           -0.046238442468997006,
           0.08561527679354743,
           -0.40483883470116433,
           0.899580403336936,
           -1.8956872968099026,
           -0.29159956179678576,
           -0.06565355561161111,
           0.5376467562367556,
           0.23539159241692326,
           1.3733627272448297,
           -1.087990231436893,
           0.21435419378494172,
           -1.517331872255368,
           0.6222193319002701,
           -0.8335275736760588,
           1.1007863057502247,
           1.257722929309476,
           0.7553318820375388,
           -0.887574617083004,
           1.7164274445288905,
           1.0175805247540481,
           0.7098359692578368,
           0.8667305106632105,
           2.043752337808585,
           0.39181028478487956,
           0.4424346701147779,
           0.542020918294755,
           1.8634179366706363,
           0.2831099924166399,
           0.19144717567528688,
           -0.2887116276622198,
           -1.9696135367924954,
           -1.1865386893128282,
           0.7438041160099381,
           1.7180360864751165,
           -0.7683132435859237,
           -0.04780233543505983,
           1.8771998664525167,
           -1.6004633765948133,
           -0.030046330189920745,
           -0.4168875199700736,
           0.1022019938886791,
           -1.355172891474881,
           1.0287848808553202,
           0.009569036675217059,
           0.1855929300716326,
           -1.5026325551207202,
           0.6533008303120037,
           -0.36184212152109,
           0.9263156871326771,
           -1.263423873584495,
           -0.17994995967862262,
           -1.2359660131491879,
           0.9183918168402134,
           -0.42945181489767154,
           1.119151627660973,
           -0.6799486732270736,
           -0.5829663830895361,
           0.6584653754053799,
           0.7168805473589595,
           -0.43324245196097744,
           -0.18478045783497138,
           0.31814438087329877,
           0.6145743233388765,
           -0.25907562084710256,
           -0.9183125275899076,
           0.07957198572994262,
           1.0523850495340707,
           -0.33415458271315857,
           -0.42475804364205927,
           -0.939217879376767,
           -1.1989179077949514,
           0.24472946100408594,
           -0.4279673085369578,
           0.19820259713558816,
           0.3226254285906887,
           0.6713810709409074,
           1.3721893246732348,
           1.048870606178747,
           -0.13166122311472958,
           -1.640390818791122,
           -0.03520995342515576,
           0.647292023982669,
           0.5151199742954892,
           0.18896192980224832,
           -0.2216517093520442,
           -1.955443124831318,
           -0.833766857163278,
           0.2267722295456037,
           -1.0709638749390846,
           0.5812866063495902,
           0.2001305906069113,
           -0.6944098628620495,
           -1.5734907633311848,
           -1.2060394724315993,
           -0.8745011932171257,
           0.5644455372226989,
           0.6604084115683017,
           0.9180100113911273,
           -0.6937819600561412,
           -0.18099964001750368,
           1.8031058425087418,
           -0.23025486343952342,
           1.0578863705084969,
           0.628186097924199,
           0.7878041081399395,
           0.48333934897690245,
           0.8440740554037833,
           1.8936251972725067,
           0.009612850726333912,
           0.3620268474360066,
           1.1290844630193646,
           0.5085852623402644,
           0.1780576669044406,
           1.9198654732235456,
           -0.8807942562655656,
           -0.6473272842876091,
           -0.6248431920086379,
           0.6746621729256749,
           1.57256838155268,
           1.5417394850107873,
           0.4837668789818623,
           -0.4448646846422707,
           1.2648130389673728,
           1.2087875475649321,
           -0.07915444510718862,
           0.21446362763477977,
           1.7790919116693245,
           -0.4425586454734931,
           -0.3266075726544749,
           -0.006258332948425768,
           -1.0545552948314263,
           0.8386658221625093,
           0.2434748173566339,
           -1.1140621955184027,
           0.15746650387533334,
           0.4861487596336363,
           0.5793004438608249,
           1.1492217632516537,
           -0.050494491934761306,
           0.7284070851392304,
           -1.4554909855170832,
           -0.5750439121968838,
           0.8017642112855609,
           0.7971883130811406,
           -1.43421591752847,
           -0.537734872867644,
           -0.36491181335437267,
           -0.9575069311430927,
           -1.2956311519343608,
           -0.009828669789184362,
           1.3118792389837672,
           0.8335594314720614,
           0.605186776181656,
           -1.8635801439688897,
           -0.9799475150023654,
           -0.03895669192129199,
           0.6669913981778959,
           -1.4571515873030874,
           -0.22607398230501766,
           -1.3810754039582038,
           0.2149496992287854,
           0.17234261719000626,
           0.09271143090413396,
           -1.2821094678833875,
           -0.8426429820891571,
           0.041366166310668355,
           -2.04616049550405,
           1.3412700680319563,
           0.9944673717001367,
           -1.2371418265404388,
           0.4763635808838554,
           0.10343264882260407,
           -0.30858293260728664,
           -1.5286629674836882,
           1.3381523461780667,
           -0.020441259689817283,
           0.06183885831642642,
           0.035637848795097564,
           0.29150451283450696,
           -0.45244618393554786,
           -1.2810458802381168,
           1.16418758296877,
           0.1455225777336813,
           -1.593722199644764,
           -1.2757240694843406,
           -1.2342101059239299,
           0.7196018005995011,
           0.7133224386011037,
           -2.3194640169728524,
           -0.19455464714381301,
           2.0148079068564777,
           1.3745465728592001,
           -1.0860190880236198,
           -0.6136411191535701,
           2.552962709481079,
           0.17575292756232425,
           0.415247613639955,
           0.6041668152269342,
           -0.6072692753371793,
           0.8907973777926285,
           -0.42895505596067673,
           0.9179513998587325,
           -1.7730758081606424,
           0.4195682077298985,
           2.0130662250030515,
           -0.6203892762340844,
           1.1607469141310598,
           1.5487609223957626,
           0.8363304244733227,
           0.7938053939477306,
           -0.08214517052567559,
           0.7340055731845454,
           -0.3477487673681438,
           -0.3712924296726191,
           -0.13499614506089228,
           0.34297731100374684,
           -0.26401863485736277,
           -0.7168882207282418,
           -0.44407625441472337,
           -0.7037831743037616,
           -1.703609334716404,
           -0.6301536022939719,
           -0.9368941039637662,
           -1.65637946533891,
           0.4053909019804785,
           -0.540914784571734,
           0.6158261973610228,
           -0.5558003619109269,
           -0.946502814724405,
           -0.0896568991500767,
           -0.5950305557590679,
           0.490336412322302,
           1.3103864338501452,
           -0.02157295723005273,
           0.7483073912883556,
           -0.17270091259316772,
           0.4987153889839476,
           2.3448762539874752,
           -0.040777734366310374,
           -0.410065686088916
          ],
          "colorscale": [
           [
            0,
            "#440154"
           ],
           [
            0.1111111111111111,
            "#482878"
           ],
           [
            0.2222222222222222,
            "#3e4989"
           ],
           [
            0.3333333333333333,
            "#31688e"
           ],
           [
            0.4444444444444444,
            "#26828e"
           ],
           [
            0.5555555555555556,
            "#1f9e89"
           ],
           [
            0.6666666666666666,
            "#35b779"
           ],
           [
            0.7777777777777778,
            "#6ece58"
           ],
           [
            0.8888888888888888,
            "#b5de2b"
           ],
           [
            1,
            "#fde725"
           ]
          ],
          "showscale": true,
          "size": 16
         },
         "mode": "markers",
         "type": "scatter",
         "y": [
          -0.4152994113860173,
          1.4712112484922557,
          -1.2813144461624808,
          -0.08707680955669905,
          -0.8831723548903266,
          0.8333052419740006,
          -0.7847116216194686,
          0.8073444411222975,
          -0.8420935988578515,
          -0.6854147102099457,
          0.5771014265633004,
          -1.0361544738033628,
          0.6876667180626056,
          1.6818295315053566,
          1.5240909327510328,
          -0.16615960688578724,
          -0.05858429304236553,
          -0.5174159195602649,
          -0.5883111898566702,
          -0.46311015622063123,
          0.36846289217676637,
          -0.7406187754360656,
          0.5917631818393388,
          -0.376619493750546,
          -0.5659578494505497,
          0.07541174166530061,
          -0.29074081341639063,
          -1.7567727688978925,
          0.28452258776208383,
          -0.7009561318760212,
          -1.3411653500087517,
          1.0282657654493839,
          0.9850109476312101,
          -0.1004043060969729,
          0.08406847333883313,
          1.0217836831900347,
          -0.7163201394153207,
          -0.09464522286133133,
          1.4993150496130367,
          0.48478017097014925,
          0.9879497915193275,
          0.34072722747795736,
          -0.5871075306244089,
          -2.7478486677758114,
          -2.4352939560921527,
          -0.5635340308351611,
          1.7552111248547293,
          -0.13435146486906194,
          -0.07510055289804156,
          1.0346274473448578,
          1.6468329705272868,
          1.6938533182533395,
          -0.9049580816015149,
          -1.1408542310039695,
          -1.0015981474147813,
          0.9114926037943116,
          0.18823991072353374,
          -0.015194486136794094,
          0.582972315360979,
          -0.9469337835644692,
          0.06338030930360027,
          -0.45709917134928524,
          -2.063335892337934,
          -0.7257745010792275,
          0.8217080699231207,
          -0.3288069178812648,
          1.0876261575924748,
          -0.8813130818136437,
          -0.5877036589140495,
          1.3378960751460796,
          -0.623892988151418,
          -0.11240032910070336,
          0.7976989309037441,
          0.7637747842029082,
          1.1883134421192583,
          0.41899283966385265,
          -1.2038296914907993,
          0.5023672827984226,
          -0.1688777427683827,
          0.31449038282345587,
          1.3666068110056209,
          -0.5547993967775823,
          0.9771246174288102,
          -0.013973944214532134,
          0.1800973843918803,
          1.3421751251074452,
          0.9859375641768304,
          0.3372727535612166,
          -0.39897971210285704,
          0.23111775562852332,
          0.7520573815045152,
          -0.7630311165666952,
          1.513447705451177,
          -1.3878165899468144,
          0.6150920670580885,
          -1.1972055673975948,
          1.4523487279996912,
          -0.015540958066346134,
          -0.42822774742567354,
          0.4236249744996104,
          -0.13328710959050644,
          -0.2797982166503734,
          -0.2453456739056448,
          0.007661552487760502,
          1.8327335597432677,
          -0.6246578431235229,
          0.45171289621188315,
          0.26719024971238575,
          -0.8376301819596722,
          0.2700581463669905,
          0.5323631824487725,
          -0.2798425636846599,
          0.9146754726521812,
          -0.8587014389615969,
          0.1912345865541105,
          1.1545507177463543,
          -0.36894304252958793,
          0.9317691120299957,
          0.2638019016132145,
          -0.14467871466774426,
          1.4085590738145208,
          1.0522496305528386,
          -2.2258739306529756,
          2.206889522236362,
          -0.6801753726506774,
          2.6906189810354086,
          -0.4521699225877319,
          0.38317102325161295,
          -0.0237688361959482,
          -0.6820554252588761,
          -1.4195556062030668,
          0.2069184789943773,
          -0.4666065073832455,
          -0.13355922796851047,
          -0.2875931033740439,
          -0.6486108380951939,
          -0.4488939861528295,
          0.19807863118902294,
          -0.6553749708171367,
          -0.04114950939463603,
          0.49283515609064704,
          -1.077361002448823,
          -0.24536065870220508,
          -0.2831189423752488,
          -0.07008010056255215,
          1.2910158805572234,
          -0.13486106288939628,
          -0.9555012112620238,
          0.49042568086797333,
          0.701854465455338,
          -0.3010832785106828,
          -0.3845596148649476,
          -0.7870543685133609,
          -2.442101605487101,
          1.7284150867450516,
          -0.6037984226736497,
          -0.36099856252909635,
          -0.16569523212921827,
          -1.386932298587806,
          -0.5529117798089898,
          0.8496172395745996,
          -1.3387008925160633,
          0.4921149774561739,
          -1.3344181377725406,
          -0.5241690900033507,
          -1.8932889791999947,
          -0.3950799353293908,
          -0.6539070550507812,
          -0.8620751592946624,
          0.12669582452420874,
          -0.45829193829164183,
          -0.002276178616205159,
          -0.6770269575563584,
          1.5289534575138057,
          0.44462985575577246,
          0.38404300703191,
          -0.3361862073142183,
          0.37686083215589355,
          1.331101015518416,
          -1.7270453626198417,
          -0.4244019543826149,
          1.5262391736395908,
          0.5453184159687942,
          -1.062870666779739,
          -0.5857923946040124,
          0.9404812249122292,
          -0.022694796716951293,
          -0.447670994543128,
          -0.5401465305707416,
          -0.2330822663563668,
          0.9337108178317031,
          0.18710771494216152,
          0.5948393162732937,
          1.5892423197826437,
          0.8332818561549098,
          1.545428300077798,
          1.2314545841022244,
          0.2886375247998149,
          1.4796840947465133,
          -0.30711276354562034,
          -0.48289093941507516,
          -0.7121442055321403,
          -2.0638264441395466,
          -0.2626567650930725,
          -1.6123654117325985,
          2.2786408352347793,
          0.056876267435728205,
          0.16503618445945534,
          -2.2271036746955537,
          0.920177994390331,
          1.0333917840815778,
          -1.3158429788218606,
          0.4493034321375637,
          -0.3490747023452373,
          1.285443244562014,
          -0.6049702422618272,
          -0.6417353616962708,
          0.34553217064419656,
          0.6171217296578015,
          0.23581330255337046,
          1.0942197790073578,
          0.22360453337851,
          -0.09967631477516076,
          0.9616140505731405,
          1.4691148960578404,
          -0.6214295665168234,
          -0.025117294234766493,
          0.5107871323796396,
          -1.3319065493448337,
          0.7562396754841846,
          1.8929579178740428,
          -0.2741236973701059,
          -0.5972083515223293,
          -0.6149776206206715,
          -0.2535028821078662,
          0.2623907520027126,
          -2.501623923809051,
          2.2583618467562347,
          0.6382450792198516,
          -1.6116364643021028,
          0.635725001509364,
          0.7457462625599584,
          1.4518490214414606,
          -0.3843601802235787,
          0.7351716478810114,
          -1.455771079505248,
          -0.9178044780993329,
          -2.2566130340383084,
          -0.879636460841596,
          0.14570719909689822,
          -0.9156637251389121,
          0.4398561053775582,
          0.18027486447751992,
          0.035298439183123774,
          0.47627627892823426,
          -0.3483595339027662,
          0.5120009799906213,
          -0.07031716497503525,
          0.19867522181857905,
          -0.6391683872298042,
          1.8074126895375666,
          -1.1004308986382985,
          -0.4734693843329107,
          0.689450380589554,
          1.7379498993303188,
          0.17471999707876754,
          -0.34481967085969184,
          0.3637594369606165,
          -0.6632682512791089,
          0.16344603201557734,
          -0.506444524226118,
          0.35556245292057986,
          -0.5382865987357118,
          -0.18600922131147335,
          0.9757463588744644,
          -0.07442797612328587,
          0.1712938047796761,
          -2.0283702004927266,
          -1.0476119534652937,
          1.1847853358326361,
          0.7054945730850114,
          0.5585496017572174,
          -0.4084420248582236,
          -0.6723689108487113,
          -0.81901123773408,
          0.2909935896824081,
          0.04633166739993628,
          1.4550220627826873,
          -0.306823876826636,
          -0.050741028624236566,
          0.11986631777248251,
          0.6546778688109999,
          -0.19665227348114078,
          -0.07110406271274057,
          -0.3361759324205465,
          -0.09986172044273507,
          2.002455125972664,
          1.180450907550529,
          -0.5546569596921004,
          -1.564845128426048,
          -0.1215173890956696,
          -0.17754800222610698,
          -1.37280471105317,
          -0.08636827574766935,
          -1.6345543439662502,
          1.7408240370147867,
          0.12901752124825772,
          0.19814927908409363,
          0.39462228897148605,
          1.0053654797868734,
          -0.705238962429179,
          -0.05489130509842522,
          0.3030850353851056,
          -0.1258256356801475,
          0.589331157881208,
          1.5252115280578056,
          1.6696565562323966,
          0.26996345823806867,
          0.7086684918439649,
          0.7222500070880234,
          -0.012498228921615754,
          -1.4131101519062699,
          -0.9593500224115129,
          0.7744959814798072,
          0.912120094318429,
          1.2906964464071446,
          -0.874222114840381,
          0.7168671790187819,
          -1.675354281119457,
          -0.18103938319459228,
          1.8931308303661845,
          -0.15101132245799478,
          -1.0420079408405432,
          1.451537012160136,
          -0.6380151399163724,
          0.2750738574866081,
          -1.1392572467686657,
          -0.6538600967860536,
          -0.03876979197857406,
          -0.7192784689788367,
          0.37655928327774857,
          -1.0840651522067433,
          0.3168855027577905,
          -0.5748756676073173,
          0.9485164282020199,
          0.576998597564809,
          0.3939741097554469,
          -0.5323219242494953,
          -0.14795835289458975,
          -0.2755614163940905,
          1.2796572986150665,
          -1.6126342396812243,
          1.9485930194952752,
          -1.6418040130093485,
          -1.0254119025859394,
          -0.4810287027443202,
          0.2991528569143184,
          -0.2063877472187824,
          1.0343511671087444,
          -0.3961710105243087,
          -0.42307422991458465,
          -0.48010094524816965,
          -0.7717526288844149,
          1.764087870560656,
          0.23856728410618191,
          0.11229201293343477,
          -0.6774504296586339,
          0.9525556476254843,
          0.7005737481030152,
          0.6217920629362516,
          -1.0428895447467597,
          0.09346731199508074,
          -1.5914894603247793,
          -0.2852521745925756,
          -0.19344655935705762,
          -2.558368710949907,
          0.12392496825286416,
          1.9715205951900714,
          -0.1825419656329047,
          -1.1428041876314972,
          0.6784859623070624,
          0.6820290189004433,
          0.5164611016764106,
          2.7506675814644312,
          0.9110712197514149,
          0.33105438051390496,
          -0.7364498431451605,
          1.632207856801667,
          0.5973006745591279,
          1.1082508087861744,
          0.4409618490573966,
          -0.7284342225828517,
          -0.18987902948991695,
          -1.0878219805722478,
          -1.992793961660255,
          -1.6008765254415005,
          1.3627872357097646,
          0.2665012749292581,
          -0.49261219860058175,
          -0.8642872513988498,
          1.1674388329061587,
          1.1456006288235616,
          -0.8756573688879605,
          0.9083261991022064,
          -1.0574216457233265,
          -0.48777283063442234,
          -0.0790617591260568,
          1.2894529525695444,
          0.7715421692649352,
          -2.5978859204321614,
          0.7351180043623136,
          0.9442160375614058,
          -0.2721711556970931,
          -0.649744800759144,
          0.47825810794485335,
          -3.055976885187367,
          1.0327219499821645,
          -0.7425878200133647,
          1.088285065369043,
          0.21372936867590955,
          -0.184618425204882,
          0.6189188471892768,
          -0.3533431332936205,
          0.554186951403652,
          0.08235862386228385,
          0.20661580077695818,
          1.4647167611465435,
          1.1840602456300244,
          1.4795354892490689,
          -0.5667320808621235,
          0.059310509460169615,
          0.6258231716015176,
          1.2671431410012473,
          -1.1093684579999985,
          0.7606327482260823,
          -0.1297906836990503,
          0.842031917426485,
          0.36421132128251893,
          -0.5483841553255365,
          -0.3383344756070698,
          2.844111972570866,
          -2.789149755364198,
          1.1047329226210483,
          -0.40681526458991774,
          1.226283996980016,
          0.43992393372904215,
          -0.2977720225260706,
          1.223614278108334,
          -1.124421392858731,
          1.3210772698600668,
          2.08416408587003,
          1.94404427847998,
          -0.5645167800496819,
          0.22658102344340314,
          1.5579013507987574,
          0.2668925116583049,
          -1.205236391296501,
          1.3837666167283034,
          -0.7169913887913205,
          0.4946920906524179,
          -0.7007478960454129,
          1.4862392783592961,
          0.6916520393982564,
          -0.9474809594935825,
          0.27524032400560994,
          1.7110592940821772,
          1.3711140852337764,
          0.8309879727132917,
          -0.8916082865334356,
          -0.9397489855104437,
          -0.36271588654362674,
          -1.6882353092735964,
          -1.5171632851327017,
          0.6664878290439904,
          -0.032498396350430676,
          0.5723027028080105,
          1.5236482880128188,
          0.7742279463299482,
          0.8536412915326808,
          -0.14720018840269244,
          1.383868486838937,
          -0.3041258541732745,
          -0.053976775452130386,
          -0.5676179877408349,
          0.4766012061412774,
          -0.5902062290467577,
          -0.27483992428197995,
          -0.6915375436489057,
          -1.3379254640896474,
          0.37520323005665496,
          0.5544746799575748,
          0.3237167176046114,
          0.6862670488639465,
          -0.8192899388169963,
          -0.47892957080444176,
          0.07125088157466544,
          1.2434847326264236,
          1.240929049808394,
          1.6636924835051883,
          -0.43840794254389354
         ]
        }
       ],
       "layout": {
        "hovermode": "closest",
        "template": {
         "data": {
          "bar": [
           {
            "error_x": {
             "color": "#2a3f5f"
            },
            "error_y": {
             "color": "#2a3f5f"
            },
            "marker": {
             "line": {
              "color": "#E5ECF6",
              "width": 0.5
             }
            },
            "type": "bar"
           }
          ],
          "barpolar": [
           {
            "marker": {
             "line": {
              "color": "#E5ECF6",
              "width": 0.5
             }
            },
            "type": "barpolar"
           }
          ],
          "carpet": [
           {
            "aaxis": {
             "endlinecolor": "#2a3f5f",
             "gridcolor": "white",
             "linecolor": "white",
             "minorgridcolor": "white",
             "startlinecolor": "#2a3f5f"
            },
            "baxis": {
             "endlinecolor": "#2a3f5f",
             "gridcolor": "white",
             "linecolor": "white",
             "minorgridcolor": "white",
             "startlinecolor": "#2a3f5f"
            },
            "type": "carpet"
           }
          ],
          "choropleth": [
           {
            "colorbar": {
             "outlinewidth": 0,
             "ticks": ""
            },
            "type": "choropleth"
           }
          ],
          "contour": [
           {
            "colorbar": {
             "outlinewidth": 0,
             "ticks": ""
            },
            "colorscale": [
             [
              0,
              "#0d0887"
             ],
             [
              0.1111111111111111,
              "#46039f"
             ],
             [
              0.2222222222222222,
              "#7201a8"
             ],
             [
              0.3333333333333333,
              "#9c179e"
             ],
             [
              0.4444444444444444,
              "#bd3786"
             ],
             [
              0.5555555555555556,
              "#d8576b"
             ],
             [
              0.6666666666666666,
              "#ed7953"
             ],
             [
              0.7777777777777778,
              "#fb9f3a"
             ],
             [
              0.8888888888888888,
              "#fdca26"
             ],
             [
              1,
              "#f0f921"
             ]
            ],
            "type": "contour"
           }
          ],
          "contourcarpet": [
           {
            "colorbar": {
             "outlinewidth": 0,
             "ticks": ""
            },
            "type": "contourcarpet"
           }
          ],
          "heatmap": [
           {
            "colorbar": {
             "outlinewidth": 0,
             "ticks": ""
            },
            "colorscale": [
             [
              0,
              "#0d0887"
             ],
             [
              0.1111111111111111,
              "#46039f"
             ],
             [
              0.2222222222222222,
              "#7201a8"
             ],
             [
              0.3333333333333333,
              "#9c179e"
             ],
             [
              0.4444444444444444,
              "#bd3786"
             ],
             [
              0.5555555555555556,
              "#d8576b"
             ],
             [
              0.6666666666666666,
              "#ed7953"
             ],
             [
              0.7777777777777778,
              "#fb9f3a"
             ],
             [
              0.8888888888888888,
              "#fdca26"
             ],
             [
              1,
              "#f0f921"
             ]
            ],
            "type": "heatmap"
           }
          ],
          "heatmapgl": [
           {
            "colorbar": {
             "outlinewidth": 0,
             "ticks": ""
            },
            "colorscale": [
             [
              0,
              "#0d0887"
             ],
             [
              0.1111111111111111,
              "#46039f"
             ],
             [
              0.2222222222222222,
              "#7201a8"
             ],
             [
              0.3333333333333333,
              "#9c179e"
             ],
             [
              0.4444444444444444,
              "#bd3786"
             ],
             [
              0.5555555555555556,
              "#d8576b"
             ],
             [
              0.6666666666666666,
              "#ed7953"
             ],
             [
              0.7777777777777778,
              "#fb9f3a"
             ],
             [
              0.8888888888888888,
              "#fdca26"
             ],
             [
              1,
              "#f0f921"
             ]
            ],
            "type": "heatmapgl"
           }
          ],
          "histogram": [
           {
            "marker": {
             "colorbar": {
              "outlinewidth": 0,
              "ticks": ""
             }
            },
            "type": "histogram"
           }
          ],
          "histogram2d": [
           {
            "colorbar": {
             "outlinewidth": 0,
             "ticks": ""
            },
            "colorscale": [
             [
              0,
              "#0d0887"
             ],
             [
              0.1111111111111111,
              "#46039f"
             ],
             [
              0.2222222222222222,
              "#7201a8"
             ],
             [
              0.3333333333333333,
              "#9c179e"
             ],
             [
              0.4444444444444444,
              "#bd3786"
             ],
             [
              0.5555555555555556,
              "#d8576b"
             ],
             [
              0.6666666666666666,
              "#ed7953"
             ],
             [
              0.7777777777777778,
              "#fb9f3a"
             ],
             [
              0.8888888888888888,
              "#fdca26"
             ],
             [
              1,
              "#f0f921"
             ]
            ],
            "type": "histogram2d"
           }
          ],
          "histogram2dcontour": [
           {
            "colorbar": {
             "outlinewidth": 0,
             "ticks": ""
            },
            "colorscale": [
             [
              0,
              "#0d0887"
             ],
             [
              0.1111111111111111,
              "#46039f"
             ],
             [
              0.2222222222222222,
              "#7201a8"
             ],
             [
              0.3333333333333333,
              "#9c179e"
             ],
             [
              0.4444444444444444,
              "#bd3786"
             ],
             [
              0.5555555555555556,
              "#d8576b"
             ],
             [
              0.6666666666666666,
              "#ed7953"
             ],
             [
              0.7777777777777778,
              "#fb9f3a"
             ],
             [
              0.8888888888888888,
              "#fdca26"
             ],
             [
              1,
              "#f0f921"
             ]
            ],
            "type": "histogram2dcontour"
           }
          ],
          "mesh3d": [
           {
            "colorbar": {
             "outlinewidth": 0,
             "ticks": ""
            },
            "type": "mesh3d"
           }
          ],
          "parcoords": [
           {
            "line": {
             "colorbar": {
              "outlinewidth": 0,
              "ticks": ""
             }
            },
            "type": "parcoords"
           }
          ],
          "pie": [
           {
            "automargin": true,
            "type": "pie"
           }
          ],
          "scatter": [
           {
            "marker": {
             "colorbar": {
              "outlinewidth": 0,
              "ticks": ""
             }
            },
            "type": "scatter"
           }
          ],
          "scatter3d": [
           {
            "line": {
             "colorbar": {
              "outlinewidth": 0,
              "ticks": ""
             }
            },
            "marker": {
             "colorbar": {
              "outlinewidth": 0,
              "ticks": ""
             }
            },
            "type": "scatter3d"
           }
          ],
          "scattercarpet": [
           {
            "marker": {
             "colorbar": {
              "outlinewidth": 0,
              "ticks": ""
             }
            },
            "type": "scattercarpet"
           }
          ],
          "scattergeo": [
           {
            "marker": {
             "colorbar": {
              "outlinewidth": 0,
              "ticks": ""
             }
            },
            "type": "scattergeo"
           }
          ],
          "scattergl": [
           {
            "marker": {
             "colorbar": {
              "outlinewidth": 0,
              "ticks": ""
             }
            },
            "type": "scattergl"
           }
          ],
          "scattermapbox": [
           {
            "marker": {
             "colorbar": {
              "outlinewidth": 0,
              "ticks": ""
             }
            },
            "type": "scattermapbox"
           }
          ],
          "scatterpolar": [
           {
            "marker": {
             "colorbar": {
              "outlinewidth": 0,
              "ticks": ""
             }
            },
            "type": "scatterpolar"
           }
          ],
          "scatterpolargl": [
           {
            "marker": {
             "colorbar": {
              "outlinewidth": 0,
              "ticks": ""
             }
            },
            "type": "scatterpolargl"
           }
          ],
          "scatterternary": [
           {
            "marker": {
             "colorbar": {
              "outlinewidth": 0,
              "ticks": ""
             }
            },
            "type": "scatterternary"
           }
          ],
          "surface": [
           {
            "colorbar": {
             "outlinewidth": 0,
             "ticks": ""
            },
            "colorscale": [
             [
              0,
              "#0d0887"
             ],
             [
              0.1111111111111111,
              "#46039f"
             ],
             [
              0.2222222222222222,
              "#7201a8"
             ],
             [
              0.3333333333333333,
              "#9c179e"
             ],
             [
              0.4444444444444444,
              "#bd3786"
             ],
             [
              0.5555555555555556,
              "#d8576b"
             ],
             [
              0.6666666666666666,
              "#ed7953"
             ],
             [
              0.7777777777777778,
              "#fb9f3a"
             ],
             [
              0.8888888888888888,
              "#fdca26"
             ],
             [
              1,
              "#f0f921"
             ]
            ],
            "type": "surface"
           }
          ],
          "table": [
           {
            "cells": {
             "fill": {
              "color": "#EBF0F8"
             },
             "line": {
              "color": "white"
             }
            },
            "header": {
             "fill": {
              "color": "#C8D4E3"
             },
             "line": {
              "color": "white"
             }
            },
            "type": "table"
           }
          ]
         },
         "layout": {
          "annotationdefaults": {
           "arrowcolor": "#2a3f5f",
           "arrowhead": 0,
           "arrowwidth": 1
          },
          "autotypenumbers": "strict",
          "coloraxis": {
           "colorbar": {
            "outlinewidth": 0,
            "ticks": ""
           }
          },
          "colorscale": {
           "diverging": [
            [
             0,
             "#8e0152"
            ],
            [
             0.1,
             "#c51b7d"
            ],
            [
             0.2,
             "#de77ae"
            ],
            [
             0.3,
             "#f1b6da"
            ],
            [
             0.4,
             "#fde0ef"
            ],
            [
             0.5,
             "#f7f7f7"
            ],
            [
             0.6,
             "#e6f5d0"
            ],
            [
             0.7,
             "#b8e186"
            ],
            [
             0.8,
             "#7fbc41"
            ],
            [
             0.9,
             "#4d9221"
            ],
            [
             1,
             "#276419"
            ]
           ],
           "sequential": [
            [
             0,
             "#0d0887"
            ],
            [
             0.1111111111111111,
             "#46039f"
            ],
            [
             0.2222222222222222,
             "#7201a8"
            ],
            [
             0.3333333333333333,
             "#9c179e"
            ],
            [
             0.4444444444444444,
             "#bd3786"
            ],
            [
             0.5555555555555556,
             "#d8576b"
            ],
            [
             0.6666666666666666,
             "#ed7953"
            ],
            [
             0.7777777777777778,
             "#fb9f3a"
            ],
            [
             0.8888888888888888,
             "#fdca26"
            ],
            [
             1,
             "#f0f921"
            ]
           ],
           "sequentialminus": [
            [
             0,
             "#0d0887"
            ],
            [
             0.1111111111111111,
             "#46039f"
            ],
            [
             0.2222222222222222,
             "#7201a8"
            ],
            [
             0.3333333333333333,
             "#9c179e"
            ],
            [
             0.4444444444444444,
             "#bd3786"
            ],
            [
             0.5555555555555556,
             "#d8576b"
            ],
            [
             0.6666666666666666,
             "#ed7953"
            ],
            [
             0.7777777777777778,
             "#fb9f3a"
            ],
            [
             0.8888888888888888,
             "#fdca26"
            ],
            [
             1,
             "#f0f921"
            ]
           ]
          },
          "colorway": [
           "#636efa",
           "#EF553B",
           "#00cc96",
           "#ab63fa",
           "#FFA15A",
           "#19d3f3",
           "#FF6692",
           "#B6E880",
           "#FF97FF",
           "#FECB52"
          ],
          "font": {
           "color": "#2a3f5f"
          },
          "geo": {
           "bgcolor": "white",
           "lakecolor": "white",
           "landcolor": "#E5ECF6",
           "showlakes": true,
           "showland": true,
           "subunitcolor": "white"
          },
          "hoverlabel": {
           "align": "left"
          },
          "hovermode": "closest",
          "mapbox": {
           "style": "light"
          },
          "paper_bgcolor": "white",
          "plot_bgcolor": "#E5ECF6",
          "polar": {
           "angularaxis": {
            "gridcolor": "white",
            "linecolor": "white",
            "ticks": ""
           },
           "bgcolor": "#E5ECF6",
           "radialaxis": {
            "gridcolor": "white",
            "linecolor": "white",
            "ticks": ""
           }
          },
          "scene": {
           "xaxis": {
            "backgroundcolor": "#E5ECF6",
            "gridcolor": "white",
            "gridwidth": 2,
            "linecolor": "white",
            "showbackground": true,
            "ticks": "",
            "zerolinecolor": "white"
           },
           "yaxis": {
            "backgroundcolor": "#E5ECF6",
            "gridcolor": "white",
            "gridwidth": 2,
            "linecolor": "white",
            "showbackground": true,
            "ticks": "",
            "zerolinecolor": "white"
           },
           "zaxis": {
            "backgroundcolor": "#E5ECF6",
            "gridcolor": "white",
            "gridwidth": 2,
            "linecolor": "white",
            "showbackground": true,
            "ticks": "",
            "zerolinecolor": "white"
           }
          },
          "shapedefaults": {
           "line": {
            "color": "#2a3f5f"
           }
          },
          "ternary": {
           "aaxis": {
            "gridcolor": "white",
            "linecolor": "white",
            "ticks": ""
           },
           "baxis": {
            "gridcolor": "white",
            "linecolor": "white",
            "ticks": ""
           },
           "bgcolor": "#E5ECF6",
           "caxis": {
            "gridcolor": "white",
            "linecolor": "white",
            "ticks": ""
           }
          },
          "title": {
           "x": 0.05
          },
          "xaxis": {
           "automargin": true,
           "gridcolor": "white",
           "linecolor": "white",
           "ticks": "",
           "title": {
            "standoff": 15
           },
           "zerolinecolor": "white",
           "zerolinewidth": 2
          },
          "yaxis": {
           "automargin": true,
           "gridcolor": "white",
           "linecolor": "white",
           "ticks": "",
           "title": {
            "standoff": 15
           },
           "zerolinecolor": "white",
           "zerolinewidth": 2
          }
         }
        },
        "title": {
         "text": "Random Data Scatterplot"
        },
        "xaxis": {
         "title": {
          "text": "Some random x-values"
         }
        },
        "yaxis": {
         "title": {
          "text": "Some random y-values"
         }
        }
       }
      },
      "text/html": [
       "<div>                            <div id=\"e1a03c32-5883-4c2c-83f4-7e2391c11172\" class=\"plotly-graph-div\" style=\"height:525px; width:100%;\"></div>            <script type=\"text/javascript\">                require([\"plotly\"], function(Plotly) {                    window.PLOTLYENV=window.PLOTLYENV || {};                                    if (document.getElementById(\"e1a03c32-5883-4c2c-83f4-7e2391c11172\")) {                    Plotly.newPlot(                        \"e1a03c32-5883-4c2c-83f4-7e2391c11172\",                        [{\"marker\": {\"color\": [1.796376180772925, -0.37715123199106165, -0.5092838879607922, -1.223688886806172, 1.8168706074368755, -0.3180873882241988, -0.2871876593049238, 0.3089283626574168, 1.2682981937224302, 1.1263639800939098, -1.5730448379364597, 0.03560236481971528, 0.42198297882507113, -1.0720179284439355, -1.893726210140736, -1.6076062191302452, 0.31328339838930186, 0.03599370211978151, 1.5993537243662699, 1.4010700527537323, -0.036456468368129206, 0.17547369303789906, -1.4877695231251413, -1.7763136902510506, 1.0764040525271519, 1.0984827949224225, 0.6425743988263728, -0.7167858906830477, 2.327600503303021, -1.1483068786490194, 1.0441834875070668, -0.272025473643102, 2.190119638375137, 0.6319535591098651, 0.5413599940313886, 1.229515422333657, -0.8039331076698787, -0.4910370541911496, 0.18385314173034378, 0.758701398294147, -1.1313244351843383, 1.2419817338252537, 0.8806386804572897, -0.35189496546864957, 0.4751724427735081, 0.32043369623408324, -1.6535495142166763, 0.9358228082993154, 1.395509288802095, -0.9827475156762807, -1.313620776577919, -0.4649737354300178, -0.485129662457294, 1.0764583938955825, 0.4642144872432875, -0.7305892602028259, -1.4288863976618853, -1.4638798841358522, -0.7754382878946826, -0.05705793063442328, 0.28416040600043574, -1.1594055534735443, -0.8481171473349538, 0.034553290673698195, -0.5404737281873615, 0.5579522284846914, -0.4865988689548036, -1.3742685650415973, 0.9499630355081657, -0.13389135556134404, -0.9954801830691593, -0.3848629334478679, 1.0640378512800808, -0.9796370266326547, -1.2939179339646598, 0.39239875719550255, -0.10259443801618827, -0.43243961013651666, 0.7988282862014374, -0.5132911792342296, 0.32418399048937824, -0.19208004215468177, 0.6234673699012487, -0.9982529600284282, 0.37201261710532524, -0.15642577678830025, 0.825293551347344, -1.9854691594343, -2.2355047501107568, -0.06643575221390192, 0.5313805463420507, -0.35136140704009544, 1.0335884275847937, -1.6184724148738274, 1.3574922675333152, -0.15054980312650285, -0.5515929111080168, -0.0948438882039881, -1.438235009908603, -1.8374714944205854, 0.5273997170218973, 0.07159507797220059, -0.18061705596944025, 1.185707524897844, -0.46554499677024674, 0.2138210915918794, -0.5799846094023057, 0.862842704020064, -1.5261054987017428, 0.3780977059145406, -0.8494523397651103, 0.9646146486278337, -1.1563441482329204, -0.9118989070461819, -1.1244615056671903, -0.47303380763708835, 0.4788946369969252, 0.7408536291088366, 0.19897418972499953, 0.051823982926439055, 0.1389251689451768, -1.242485828302023, 0.018457907303467597, -0.0902568848017239, -0.18335447064062327, 0.40761704747123545, -0.17265317085989898, 1.5099682085549044, -0.9242074191151259, -0.3177030788581637, 0.2686593950419671, 1.4446449861111488, -0.18607389031542204, -0.008862936449070293, 0.3587043121730139, -1.1251428094090115, -0.6713166748780858, 0.39296285561195576, -0.3042065854909925, 1.3824287245425122, -0.3986153455106159, 0.8335090180710666, 1.156469194144273, 1.6837772454961364, -0.32007298835697834, -0.05971849214382661, 0.8084070589913317, -0.21365841863171772, -0.03810686218151364, -0.26471337493531427, 0.20914812247754008, 1.7875968797048696, 1.5947152003805445, -0.25175815230412524, -2.053572594098875, -2.130104280922004, 2.95142110198759, -1.1970301736693876, -0.3506015540670263, 0.11686883683683197, 1.188909803734941, 0.019302376002870623, 1.6847402274495007, -0.9315095191161851, 0.5529956658998418, 1.33174100896251, -1.0525743079920766, -1.5634521044833756, 0.6944922078279387, -0.5376304978636712, 2.115034044346681, -1.5107742147152845, 0.578308868250185, 0.7828395559986614, -1.0956212825783296, 0.09138385759080095, -1.4051425972624123, 1.3383597167876595, 0.8547119513867533, 0.3896753457784521, 0.5168177506447826, -1.6526880443710774, -0.30560939929513337, -0.7522608395593167, -1.1485959502056957, 0.8214109414382236, 0.8497989943920153, 0.3433237137638355, 0.30059583883852514, 0.28952954213462023, 0.1273027874923666, -1.0740744291109106, -0.763006229675341, -0.05610615996514246, -1.0148766228307025, -0.386162179849558, -0.8678992057814211, 0.4546542488174672, -0.6258589636789549, 0.7254619506645711, -0.31636841479744887, 0.2483985811546636, 0.6569947849503304, -0.08122279557121169, -0.04124907939867159, 0.8089362598474182, -0.4721194470758464, 0.6957329850379066, -0.7258759487003338, 1.1069037038511025, -0.27429151720545675, 0.8994391563380881, 1.7710869663258892, 0.7955154363650758, 0.9804182420778309, 1.2128904496208877, -2.2380235343180392, 2.2323595670495346, -0.12272249836211135, -0.8616983970777305, 0.9867687533683929, -0.023103604557684277, -0.45523096826282355, 2.7673305515650144, 0.08190966012876326, -1.9738499951935902, 0.10026083472919516, -2.152919693704157, 0.22032379776268363, 0.6947458207388713, 0.075848520109818, -0.3698501217354854, 1.683164254615985, 0.19044551565036474, 0.17639069507560065, -0.9229905010593953, 0.3168904854872586, -1.090069111201334, 0.752592019380868, 0.40641840713599126, -0.45955789076308645, -1.7761369002117233, -1.3210793353937538, 0.2854639974100201, 1.1380910462647573, -0.49044494291187835, -0.04321283741611029, 0.9508532899484748, 1.3466593064668826, -1.7381786703298174, -0.5511004853639307, -0.2700841021866831, -0.32482239851566197, -1.4369378830500399, -0.6119908411723317, -0.9590656198894884, 1.1116472197291514, 0.4211812380554957, 1.0059249163140012, -0.046238442468997006, 0.08561527679354743, -0.40483883470116433, 0.899580403336936, -1.8956872968099026, -0.29159956179678576, -0.06565355561161111, 0.5376467562367556, 0.23539159241692326, 1.3733627272448297, -1.087990231436893, 0.21435419378494172, -1.517331872255368, 0.6222193319002701, -0.8335275736760588, 1.1007863057502247, 1.257722929309476, 0.7553318820375388, -0.887574617083004, 1.7164274445288905, 1.0175805247540481, 0.7098359692578368, 0.8667305106632105, 2.043752337808585, 0.39181028478487956, 0.4424346701147779, 0.542020918294755, 1.8634179366706363, 0.2831099924166399, 0.19144717567528688, -0.2887116276622198, -1.9696135367924954, -1.1865386893128282, 0.7438041160099381, 1.7180360864751165, -0.7683132435859237, -0.04780233543505983, 1.8771998664525167, -1.6004633765948133, -0.030046330189920745, -0.4168875199700736, 0.1022019938886791, -1.355172891474881, 1.0287848808553202, 0.009569036675217059, 0.1855929300716326, -1.5026325551207202, 0.6533008303120037, -0.36184212152109, 0.9263156871326771, -1.263423873584495, -0.17994995967862262, -1.2359660131491879, 0.9183918168402134, -0.42945181489767154, 1.119151627660973, -0.6799486732270736, -0.5829663830895361, 0.6584653754053799, 0.7168805473589595, -0.43324245196097744, -0.18478045783497138, 0.31814438087329877, 0.6145743233388765, -0.25907562084710256, -0.9183125275899076, 0.07957198572994262, 1.0523850495340707, -0.33415458271315857, -0.42475804364205927, -0.939217879376767, -1.1989179077949514, 0.24472946100408594, -0.4279673085369578, 0.19820259713558816, 0.3226254285906887, 0.6713810709409074, 1.3721893246732348, 1.048870606178747, -0.13166122311472958, -1.640390818791122, -0.03520995342515576, 0.647292023982669, 0.5151199742954892, 0.18896192980224832, -0.2216517093520442, -1.955443124831318, -0.833766857163278, 0.2267722295456037, -1.0709638749390846, 0.5812866063495902, 0.2001305906069113, -0.6944098628620495, -1.5734907633311848, -1.2060394724315993, -0.8745011932171257, 0.5644455372226989, 0.6604084115683017, 0.9180100113911273, -0.6937819600561412, -0.18099964001750368, 1.8031058425087418, -0.23025486343952342, 1.0578863705084969, 0.628186097924199, 0.7878041081399395, 0.48333934897690245, 0.8440740554037833, 1.8936251972725067, 0.009612850726333912, 0.3620268474360066, 1.1290844630193646, 0.5085852623402644, 0.1780576669044406, 1.9198654732235456, -0.8807942562655656, -0.6473272842876091, -0.6248431920086379, 0.6746621729256749, 1.57256838155268, 1.5417394850107873, 0.4837668789818623, -0.4448646846422707, 1.2648130389673728, 1.2087875475649321, -0.07915444510718862, 0.21446362763477977, 1.7790919116693245, -0.4425586454734931, -0.3266075726544749, -0.006258332948425768, -1.0545552948314263, 0.8386658221625093, 0.2434748173566339, -1.1140621955184027, 0.15746650387533334, 0.4861487596336363, 0.5793004438608249, 1.1492217632516537, -0.050494491934761306, 0.7284070851392304, -1.4554909855170832, -0.5750439121968838, 0.8017642112855609, 0.7971883130811406, -1.43421591752847, -0.537734872867644, -0.36491181335437267, -0.9575069311430927, -1.2956311519343608, -0.009828669789184362, 1.3118792389837672, 0.8335594314720614, 0.605186776181656, -1.8635801439688897, -0.9799475150023654, -0.03895669192129199, 0.6669913981778959, -1.4571515873030874, -0.22607398230501766, -1.3810754039582038, 0.2149496992287854, 0.17234261719000626, 0.09271143090413396, -1.2821094678833875, -0.8426429820891571, 0.041366166310668355, -2.04616049550405, 1.3412700680319563, 0.9944673717001367, -1.2371418265404388, 0.4763635808838554, 0.10343264882260407, -0.30858293260728664, -1.5286629674836882, 1.3381523461780667, -0.020441259689817283, 0.06183885831642642, 0.035637848795097564, 0.29150451283450696, -0.45244618393554786, -1.2810458802381168, 1.16418758296877, 0.1455225777336813, -1.593722199644764, -1.2757240694843406, -1.2342101059239299, 0.7196018005995011, 0.7133224386011037, -2.3194640169728524, -0.19455464714381301, 2.0148079068564777, 1.3745465728592001, -1.0860190880236198, -0.6136411191535701, 2.552962709481079, 0.17575292756232425, 0.415247613639955, 0.6041668152269342, -0.6072692753371793, 0.8907973777926285, -0.42895505596067673, 0.9179513998587325, -1.7730758081606424, 0.4195682077298985, 2.0130662250030515, -0.6203892762340844, 1.1607469141310598, 1.5487609223957626, 0.8363304244733227, 0.7938053939477306, -0.08214517052567559, 0.7340055731845454, -0.3477487673681438, -0.3712924296726191, -0.13499614506089228, 0.34297731100374684, -0.26401863485736277, -0.7168882207282418, -0.44407625441472337, -0.7037831743037616, -1.703609334716404, -0.6301536022939719, -0.9368941039637662, -1.65637946533891, 0.4053909019804785, -0.540914784571734, 0.6158261973610228, -0.5558003619109269, -0.946502814724405, -0.0896568991500767, -0.5950305557590679, 0.490336412322302, 1.3103864338501452, -0.02157295723005273, 0.7483073912883556, -0.17270091259316772, 0.4987153889839476, 2.3448762539874752, -0.040777734366310374, -0.410065686088916], \"colorscale\": [[0.0, \"#440154\"], [0.1111111111111111, \"#482878\"], [0.2222222222222222, \"#3e4989\"], [0.3333333333333333, \"#31688e\"], [0.4444444444444444, \"#26828e\"], [0.5555555555555556, \"#1f9e89\"], [0.6666666666666666, \"#35b779\"], [0.7777777777777778, \"#6ece58\"], [0.8888888888888888, \"#b5de2b\"], [1.0, \"#fde725\"]], \"showscale\": true, \"size\": 16}, \"mode\": \"markers\", \"type\": \"scatter\", \"y\": [-0.4152994113860173, 1.4712112484922557, -1.2813144461624808, -0.08707680955669905, -0.8831723548903266, 0.8333052419740006, -0.7847116216194686, 0.8073444411222975, -0.8420935988578515, -0.6854147102099457, 0.5771014265633004, -1.0361544738033628, 0.6876667180626056, 1.6818295315053566, 1.5240909327510328, -0.16615960688578724, -0.05858429304236553, -0.5174159195602649, -0.5883111898566702, -0.46311015622063123, 0.36846289217676637, -0.7406187754360656, 0.5917631818393388, -0.376619493750546, -0.5659578494505497, 0.07541174166530061, -0.29074081341639063, -1.7567727688978925, 0.28452258776208383, -0.7009561318760212, -1.3411653500087517, 1.0282657654493839, 0.9850109476312101, -0.1004043060969729, 0.08406847333883313, 1.0217836831900347, -0.7163201394153207, -0.09464522286133133, 1.4993150496130367, 0.48478017097014925, 0.9879497915193275, 0.34072722747795736, -0.5871075306244089, -2.7478486677758114, -2.4352939560921527, -0.5635340308351611, 1.7552111248547293, -0.13435146486906194, -0.07510055289804156, 1.0346274473448578, 1.6468329705272868, 1.6938533182533395, -0.9049580816015149, -1.1408542310039695, -1.0015981474147813, 0.9114926037943116, 0.18823991072353374, -0.015194486136794094, 0.582972315360979, -0.9469337835644692, 0.06338030930360027, -0.45709917134928524, -2.063335892337934, -0.7257745010792275, 0.8217080699231207, -0.3288069178812648, 1.0876261575924748, -0.8813130818136437, -0.5877036589140495, 1.3378960751460796, -0.623892988151418, -0.11240032910070336, 0.7976989309037441, 0.7637747842029082, 1.1883134421192583, 0.41899283966385265, -1.2038296914907993, 0.5023672827984226, -0.1688777427683827, 0.31449038282345587, 1.3666068110056209, -0.5547993967775823, 0.9771246174288102, -0.013973944214532134, 0.1800973843918803, 1.3421751251074452, 0.9859375641768304, 0.3372727535612166, -0.39897971210285704, 0.23111775562852332, 0.7520573815045152, -0.7630311165666952, 1.513447705451177, -1.3878165899468144, 0.6150920670580885, -1.1972055673975948, 1.4523487279996912, -0.015540958066346134, -0.42822774742567354, 0.4236249744996104, -0.13328710959050644, -0.2797982166503734, -0.2453456739056448, 0.007661552487760502, 1.8327335597432677, -0.6246578431235229, 0.45171289621188315, 0.26719024971238575, -0.8376301819596722, 0.2700581463669905, 0.5323631824487725, -0.2798425636846599, 0.9146754726521812, -0.8587014389615969, 0.1912345865541105, 1.1545507177463543, -0.36894304252958793, 0.9317691120299957, 0.2638019016132145, -0.14467871466774426, 1.4085590738145208, 1.0522496305528386, -2.2258739306529756, 2.206889522236362, -0.6801753726506774, 2.6906189810354086, -0.4521699225877319, 0.38317102325161295, -0.0237688361959482, -0.6820554252588761, -1.4195556062030668, 0.2069184789943773, -0.4666065073832455, -0.13355922796851047, -0.2875931033740439, -0.6486108380951939, -0.4488939861528295, 0.19807863118902294, -0.6553749708171367, -0.04114950939463603, 0.49283515609064704, -1.077361002448823, -0.24536065870220508, -0.2831189423752488, -0.07008010056255215, 1.2910158805572234, -0.13486106288939628, -0.9555012112620238, 0.49042568086797333, 0.701854465455338, -0.3010832785106828, -0.3845596148649476, -0.7870543685133609, -2.442101605487101, 1.7284150867450516, -0.6037984226736497, -0.36099856252909635, -0.16569523212921827, -1.386932298587806, -0.5529117798089898, 0.8496172395745996, -1.3387008925160633, 0.4921149774561739, -1.3344181377725406, -0.5241690900033507, -1.8932889791999947, -0.3950799353293908, -0.6539070550507812, -0.8620751592946624, 0.12669582452420874, -0.45829193829164183, -0.002276178616205159, -0.6770269575563584, 1.5289534575138057, 0.44462985575577246, 0.38404300703191, -0.3361862073142183, 0.37686083215589355, 1.331101015518416, -1.7270453626198417, -0.4244019543826149, 1.5262391736395908, 0.5453184159687942, -1.062870666779739, -0.5857923946040124, 0.9404812249122292, -0.022694796716951293, -0.447670994543128, -0.5401465305707416, -0.2330822663563668, 0.9337108178317031, 0.18710771494216152, 0.5948393162732937, 1.5892423197826437, 0.8332818561549098, 1.545428300077798, 1.2314545841022244, 0.2886375247998149, 1.4796840947465133, -0.30711276354562034, -0.48289093941507516, -0.7121442055321403, -2.0638264441395466, -0.2626567650930725, -1.6123654117325985, 2.2786408352347793, 0.056876267435728205, 0.16503618445945534, -2.2271036746955537, 0.920177994390331, 1.0333917840815778, -1.3158429788218606, 0.4493034321375637, -0.3490747023452373, 1.285443244562014, -0.6049702422618272, -0.6417353616962708, 0.34553217064419656, 0.6171217296578015, 0.23581330255337046, 1.0942197790073578, 0.22360453337851, -0.09967631477516076, 0.9616140505731405, 1.4691148960578404, -0.6214295665168234, -0.025117294234766493, 0.5107871323796396, -1.3319065493448337, 0.7562396754841846, 1.8929579178740428, -0.2741236973701059, -0.5972083515223293, -0.6149776206206715, -0.2535028821078662, 0.2623907520027126, -2.501623923809051, 2.2583618467562347, 0.6382450792198516, -1.6116364643021028, 0.635725001509364, 0.7457462625599584, 1.4518490214414606, -0.3843601802235787, 0.7351716478810114, -1.455771079505248, -0.9178044780993329, -2.2566130340383084, -0.879636460841596, 0.14570719909689822, -0.9156637251389121, 0.4398561053775582, 0.18027486447751992, 0.035298439183123774, 0.47627627892823426, -0.3483595339027662, 0.5120009799906213, -0.07031716497503525, 0.19867522181857905, -0.6391683872298042, 1.8074126895375666, -1.1004308986382985, -0.4734693843329107, 0.689450380589554, 1.7379498993303188, 0.17471999707876754, -0.34481967085969184, 0.3637594369606165, -0.6632682512791089, 0.16344603201557734, -0.506444524226118, 0.35556245292057986, -0.5382865987357118, -0.18600922131147335, 0.9757463588744644, -0.07442797612328587, 0.1712938047796761, -2.0283702004927266, -1.0476119534652937, 1.1847853358326361, 0.7054945730850114, 0.5585496017572174, -0.4084420248582236, -0.6723689108487113, -0.81901123773408, 0.2909935896824081, 0.04633166739993628, 1.4550220627826873, -0.306823876826636, -0.050741028624236566, 0.11986631777248251, 0.6546778688109999, -0.19665227348114078, -0.07110406271274057, -0.3361759324205465, -0.09986172044273507, 2.002455125972664, 1.180450907550529, -0.5546569596921004, -1.564845128426048, -0.1215173890956696, -0.17754800222610698, -1.37280471105317, -0.08636827574766935, -1.6345543439662502, 1.7408240370147867, 0.12901752124825772, 0.19814927908409363, 0.39462228897148605, 1.0053654797868734, -0.705238962429179, -0.05489130509842522, 0.3030850353851056, -0.1258256356801475, 0.589331157881208, 1.5252115280578056, 1.6696565562323966, 0.26996345823806867, 0.7086684918439649, 0.7222500070880234, -0.012498228921615754, -1.4131101519062699, -0.9593500224115129, 0.7744959814798072, 0.912120094318429, 1.2906964464071446, -0.874222114840381, 0.7168671790187819, -1.675354281119457, -0.18103938319459228, 1.8931308303661845, -0.15101132245799478, -1.0420079408405432, 1.451537012160136, -0.6380151399163724, 0.2750738574866081, -1.1392572467686657, -0.6538600967860536, -0.03876979197857406, -0.7192784689788367, 0.37655928327774857, -1.0840651522067433, 0.3168855027577905, -0.5748756676073173, 0.9485164282020199, 0.576998597564809, 0.3939741097554469, -0.5323219242494953, -0.14795835289458975, -0.2755614163940905, 1.2796572986150665, -1.6126342396812243, 1.9485930194952752, -1.6418040130093485, -1.0254119025859394, -0.4810287027443202, 0.2991528569143184, -0.2063877472187824, 1.0343511671087444, -0.3961710105243087, -0.42307422991458465, -0.48010094524816965, -0.7717526288844149, 1.764087870560656, 0.23856728410618191, 0.11229201293343477, -0.6774504296586339, 0.9525556476254843, 0.7005737481030152, 0.6217920629362516, -1.0428895447467597, 0.09346731199508074, -1.5914894603247793, -0.2852521745925756, -0.19344655935705762, -2.558368710949907, 0.12392496825286416, 1.9715205951900714, -0.1825419656329047, -1.1428041876314972, 0.6784859623070624, 0.6820290189004433, 0.5164611016764106, 2.7506675814644312, 0.9110712197514149, 0.33105438051390496, -0.7364498431451605, 1.632207856801667, 0.5973006745591279, 1.1082508087861744, 0.4409618490573966, -0.7284342225828517, -0.18987902948991695, -1.0878219805722478, -1.992793961660255, -1.6008765254415005, 1.3627872357097646, 0.2665012749292581, -0.49261219860058175, -0.8642872513988498, 1.1674388329061587, 1.1456006288235616, -0.8756573688879605, 0.9083261991022064, -1.0574216457233265, -0.48777283063442234, -0.0790617591260568, 1.2894529525695444, 0.7715421692649352, -2.5978859204321614, 0.7351180043623136, 0.9442160375614058, -0.2721711556970931, -0.649744800759144, 0.47825810794485335, -3.055976885187367, 1.0327219499821645, -0.7425878200133647, 1.088285065369043, 0.21372936867590955, -0.184618425204882, 0.6189188471892768, -0.3533431332936205, 0.554186951403652, 0.08235862386228385, 0.20661580077695818, 1.4647167611465435, 1.1840602456300244, 1.4795354892490689, -0.5667320808621235, 0.059310509460169615, 0.6258231716015176, 1.2671431410012473, -1.1093684579999985, 0.7606327482260823, -0.1297906836990503, 0.842031917426485, 0.36421132128251893, -0.5483841553255365, -0.3383344756070698, 2.844111972570866, -2.789149755364198, 1.1047329226210483, -0.40681526458991774, 1.226283996980016, 0.43992393372904215, -0.2977720225260706, 1.223614278108334, -1.124421392858731, 1.3210772698600668, 2.08416408587003, 1.94404427847998, -0.5645167800496819, 0.22658102344340314, 1.5579013507987574, 0.2668925116583049, -1.205236391296501, 1.3837666167283034, -0.7169913887913205, 0.4946920906524179, -0.7007478960454129, 1.4862392783592961, 0.6916520393982564, -0.9474809594935825, 0.27524032400560994, 1.7110592940821772, 1.3711140852337764, 0.8309879727132917, -0.8916082865334356, -0.9397489855104437, -0.36271588654362674, -1.6882353092735964, -1.5171632851327017, 0.6664878290439904, -0.032498396350430676, 0.5723027028080105, 1.5236482880128188, 0.7742279463299482, 0.8536412915326808, -0.14720018840269244, 1.383868486838937, -0.3041258541732745, -0.053976775452130386, -0.5676179877408349, 0.4766012061412774, -0.5902062290467577, -0.27483992428197995, -0.6915375436489057, -1.3379254640896474, 0.37520323005665496, 0.5544746799575748, 0.3237167176046114, 0.6862670488639465, -0.8192899388169963, -0.47892957080444176, 0.07125088157466544, 1.2434847326264236, 1.240929049808394, 1.6636924835051883, -0.43840794254389354]}],                        {\"hovermode\": \"closest\", \"template\": {\"data\": {\"bar\": [{\"error_x\": {\"color\": \"#2a3f5f\"}, \"error_y\": {\"color\": \"#2a3f5f\"}, \"marker\": {\"line\": {\"color\": \"#E5ECF6\", \"width\": 0.5}}, \"type\": \"bar\"}], \"barpolar\": [{\"marker\": {\"line\": {\"color\": \"#E5ECF6\", \"width\": 0.5}}, \"type\": \"barpolar\"}], \"carpet\": [{\"aaxis\": {\"endlinecolor\": \"#2a3f5f\", \"gridcolor\": \"white\", \"linecolor\": \"white\", \"minorgridcolor\": \"white\", \"startlinecolor\": \"#2a3f5f\"}, \"baxis\": {\"endlinecolor\": \"#2a3f5f\", \"gridcolor\": \"white\", \"linecolor\": \"white\", \"minorgridcolor\": \"white\", \"startlinecolor\": \"#2a3f5f\"}, \"type\": \"carpet\"}], \"choropleth\": [{\"colorbar\": {\"outlinewidth\": 0, \"ticks\": \"\"}, \"type\": \"choropleth\"}], \"contour\": [{\"colorbar\": {\"outlinewidth\": 0, \"ticks\": \"\"}, \"colorscale\": [[0.0, \"#0d0887\"], [0.1111111111111111, \"#46039f\"], [0.2222222222222222, \"#7201a8\"], [0.3333333333333333, \"#9c179e\"], [0.4444444444444444, \"#bd3786\"], [0.5555555555555556, \"#d8576b\"], [0.6666666666666666, \"#ed7953\"], [0.7777777777777778, \"#fb9f3a\"], [0.8888888888888888, \"#fdca26\"], [1.0, \"#f0f921\"]], \"type\": \"contour\"}], \"contourcarpet\": [{\"colorbar\": {\"outlinewidth\": 0, \"ticks\": \"\"}, \"type\": \"contourcarpet\"}], \"heatmap\": [{\"colorbar\": {\"outlinewidth\": 0, \"ticks\": \"\"}, \"colorscale\": [[0.0, \"#0d0887\"], [0.1111111111111111, \"#46039f\"], [0.2222222222222222, \"#7201a8\"], [0.3333333333333333, \"#9c179e\"], [0.4444444444444444, \"#bd3786\"], [0.5555555555555556, \"#d8576b\"], [0.6666666666666666, \"#ed7953\"], [0.7777777777777778, \"#fb9f3a\"], [0.8888888888888888, \"#fdca26\"], [1.0, \"#f0f921\"]], \"type\": \"heatmap\"}], \"heatmapgl\": [{\"colorbar\": {\"outlinewidth\": 0, \"ticks\": \"\"}, \"colorscale\": [[0.0, \"#0d0887\"], [0.1111111111111111, \"#46039f\"], [0.2222222222222222, \"#7201a8\"], [0.3333333333333333, \"#9c179e\"], [0.4444444444444444, \"#bd3786\"], [0.5555555555555556, \"#d8576b\"], [0.6666666666666666, \"#ed7953\"], [0.7777777777777778, \"#fb9f3a\"], [0.8888888888888888, \"#fdca26\"], [1.0, \"#f0f921\"]], \"type\": \"heatmapgl\"}], \"histogram\": [{\"marker\": {\"colorbar\": {\"outlinewidth\": 0, \"ticks\": \"\"}}, \"type\": \"histogram\"}], \"histogram2d\": [{\"colorbar\": {\"outlinewidth\": 0, \"ticks\": \"\"}, \"colorscale\": [[0.0, \"#0d0887\"], [0.1111111111111111, \"#46039f\"], [0.2222222222222222, \"#7201a8\"], [0.3333333333333333, \"#9c179e\"], [0.4444444444444444, \"#bd3786\"], [0.5555555555555556, \"#d8576b\"], [0.6666666666666666, \"#ed7953\"], [0.7777777777777778, \"#fb9f3a\"], [0.8888888888888888, \"#fdca26\"], [1.0, \"#f0f921\"]], \"type\": \"histogram2d\"}], \"histogram2dcontour\": [{\"colorbar\": {\"outlinewidth\": 0, \"ticks\": \"\"}, \"colorscale\": [[0.0, \"#0d0887\"], [0.1111111111111111, \"#46039f\"], [0.2222222222222222, \"#7201a8\"], [0.3333333333333333, \"#9c179e\"], [0.4444444444444444, \"#bd3786\"], [0.5555555555555556, \"#d8576b\"], [0.6666666666666666, \"#ed7953\"], [0.7777777777777778, \"#fb9f3a\"], [0.8888888888888888, \"#fdca26\"], [1.0, \"#f0f921\"]], \"type\": \"histogram2dcontour\"}], \"mesh3d\": [{\"colorbar\": {\"outlinewidth\": 0, \"ticks\": \"\"}, \"type\": \"mesh3d\"}], \"parcoords\": [{\"line\": {\"colorbar\": {\"outlinewidth\": 0, \"ticks\": \"\"}}, \"type\": \"parcoords\"}], \"pie\": [{\"automargin\": true, \"type\": \"pie\"}], \"scatter\": [{\"marker\": {\"colorbar\": {\"outlinewidth\": 0, \"ticks\": \"\"}}, \"type\": \"scatter\"}], \"scatter3d\": [{\"line\": {\"colorbar\": {\"outlinewidth\": 0, \"ticks\": \"\"}}, \"marker\": {\"colorbar\": {\"outlinewidth\": 0, \"ticks\": \"\"}}, \"type\": \"scatter3d\"}], \"scattercarpet\": [{\"marker\": {\"colorbar\": {\"outlinewidth\": 0, \"ticks\": \"\"}}, \"type\": \"scattercarpet\"}], \"scattergeo\": [{\"marker\": {\"colorbar\": {\"outlinewidth\": 0, \"ticks\": \"\"}}, \"type\": \"scattergeo\"}], \"scattergl\": [{\"marker\": {\"colorbar\": {\"outlinewidth\": 0, \"ticks\": \"\"}}, \"type\": \"scattergl\"}], \"scattermapbox\": [{\"marker\": {\"colorbar\": {\"outlinewidth\": 0, \"ticks\": \"\"}}, \"type\": \"scattermapbox\"}], \"scatterpolar\": [{\"marker\": {\"colorbar\": {\"outlinewidth\": 0, \"ticks\": \"\"}}, \"type\": \"scatterpolar\"}], \"scatterpolargl\": [{\"marker\": {\"colorbar\": {\"outlinewidth\": 0, \"ticks\": \"\"}}, \"type\": \"scatterpolargl\"}], \"scatterternary\": [{\"marker\": {\"colorbar\": {\"outlinewidth\": 0, \"ticks\": \"\"}}, \"type\": \"scatterternary\"}], \"surface\": [{\"colorbar\": {\"outlinewidth\": 0, \"ticks\": \"\"}, \"colorscale\": [[0.0, \"#0d0887\"], [0.1111111111111111, \"#46039f\"], [0.2222222222222222, \"#7201a8\"], [0.3333333333333333, \"#9c179e\"], [0.4444444444444444, \"#bd3786\"], [0.5555555555555556, \"#d8576b\"], [0.6666666666666666, \"#ed7953\"], [0.7777777777777778, \"#fb9f3a\"], [0.8888888888888888, \"#fdca26\"], [1.0, \"#f0f921\"]], \"type\": \"surface\"}], \"table\": [{\"cells\": {\"fill\": {\"color\": \"#EBF0F8\"}, \"line\": {\"color\": \"white\"}}, \"header\": {\"fill\": {\"color\": \"#C8D4E3\"}, \"line\": {\"color\": \"white\"}}, \"type\": \"table\"}]}, \"layout\": {\"annotationdefaults\": {\"arrowcolor\": \"#2a3f5f\", \"arrowhead\": 0, \"arrowwidth\": 1}, \"autotypenumbers\": \"strict\", \"coloraxis\": {\"colorbar\": {\"outlinewidth\": 0, \"ticks\": \"\"}}, \"colorscale\": {\"diverging\": [[0, \"#8e0152\"], [0.1, \"#c51b7d\"], [0.2, \"#de77ae\"], [0.3, \"#f1b6da\"], [0.4, \"#fde0ef\"], [0.5, \"#f7f7f7\"], [0.6, \"#e6f5d0\"], [0.7, \"#b8e186\"], [0.8, \"#7fbc41\"], [0.9, \"#4d9221\"], [1, \"#276419\"]], \"sequential\": [[0.0, \"#0d0887\"], [0.1111111111111111, \"#46039f\"], [0.2222222222222222, \"#7201a8\"], [0.3333333333333333, \"#9c179e\"], [0.4444444444444444, \"#bd3786\"], [0.5555555555555556, \"#d8576b\"], [0.6666666666666666, \"#ed7953\"], [0.7777777777777778, \"#fb9f3a\"], [0.8888888888888888, \"#fdca26\"], [1.0, \"#f0f921\"]], \"sequentialminus\": [[0.0, \"#0d0887\"], [0.1111111111111111, \"#46039f\"], [0.2222222222222222, \"#7201a8\"], [0.3333333333333333, \"#9c179e\"], [0.4444444444444444, \"#bd3786\"], [0.5555555555555556, \"#d8576b\"], [0.6666666666666666, \"#ed7953\"], [0.7777777777777778, \"#fb9f3a\"], [0.8888888888888888, \"#fdca26\"], [1.0, \"#f0f921\"]]}, \"colorway\": [\"#636efa\", \"#EF553B\", \"#00cc96\", \"#ab63fa\", \"#FFA15A\", \"#19d3f3\", \"#FF6692\", \"#B6E880\", \"#FF97FF\", \"#FECB52\"], \"font\": {\"color\": \"#2a3f5f\"}, \"geo\": {\"bgcolor\": \"white\", \"lakecolor\": \"white\", \"landcolor\": \"#E5ECF6\", \"showlakes\": true, \"showland\": true, \"subunitcolor\": \"white\"}, \"hoverlabel\": {\"align\": \"left\"}, \"hovermode\": \"closest\", \"mapbox\": {\"style\": \"light\"}, \"paper_bgcolor\": \"white\", \"plot_bgcolor\": \"#E5ECF6\", \"polar\": {\"angularaxis\": {\"gridcolor\": \"white\", \"linecolor\": \"white\", \"ticks\": \"\"}, \"bgcolor\": \"#E5ECF6\", \"radialaxis\": {\"gridcolor\": \"white\", \"linecolor\": \"white\", \"ticks\": \"\"}}, \"scene\": {\"xaxis\": {\"backgroundcolor\": \"#E5ECF6\", \"gridcolor\": \"white\", \"gridwidth\": 2, \"linecolor\": \"white\", \"showbackground\": true, \"ticks\": \"\", \"zerolinecolor\": \"white\"}, \"yaxis\": {\"backgroundcolor\": \"#E5ECF6\", \"gridcolor\": \"white\", \"gridwidth\": 2, \"linecolor\": \"white\", \"showbackground\": true, \"ticks\": \"\", \"zerolinecolor\": \"white\"}, \"zaxis\": {\"backgroundcolor\": \"#E5ECF6\", \"gridcolor\": \"white\", \"gridwidth\": 2, \"linecolor\": \"white\", \"showbackground\": true, \"ticks\": \"\", \"zerolinecolor\": \"white\"}}, \"shapedefaults\": {\"line\": {\"color\": \"#2a3f5f\"}}, \"ternary\": {\"aaxis\": {\"gridcolor\": \"white\", \"linecolor\": \"white\", \"ticks\": \"\"}, \"baxis\": {\"gridcolor\": \"white\", \"linecolor\": \"white\", \"ticks\": \"\"}, \"bgcolor\": \"#E5ECF6\", \"caxis\": {\"gridcolor\": \"white\", \"linecolor\": \"white\", \"ticks\": \"\"}}, \"title\": {\"x\": 0.05}, \"xaxis\": {\"automargin\": true, \"gridcolor\": \"white\", \"linecolor\": \"white\", \"ticks\": \"\", \"title\": {\"standoff\": 15}, \"zerolinecolor\": \"white\", \"zerolinewidth\": 2}, \"yaxis\": {\"automargin\": true, \"gridcolor\": \"white\", \"linecolor\": \"white\", \"ticks\": \"\", \"title\": {\"standoff\": 15}, \"zerolinecolor\": \"white\", \"zerolinewidth\": 2}}}, \"title\": {\"text\": \"Random Data Scatterplot\"}, \"xaxis\": {\"title\": {\"text\": \"Some random x-values\"}}, \"yaxis\": {\"title\": {\"text\": \"Some random y-values\"}}},                        {\"responsive\": true}                    ).then(function(){\n",
       "                            \n",
       "var gd = document.getElementById('e1a03c32-5883-4c2c-83f4-7e2391c11172');\n",
       "var x = new MutationObserver(function (mutations, observer) {{\n",
       "        var display = window.getComputedStyle(gd).display;\n",
       "        if (!display || display === 'none') {{\n",
       "            console.log([gd, 'removed!']);\n",
       "            Plotly.purge(gd);\n",
       "            observer.disconnect();\n",
       "        }}\n",
       "}});\n",
       "\n",
       "// Listen for the removal of the full notebook cells\n",
       "var notebookContainer = gd.closest('#notebook-container');\n",
       "if (notebookContainer) {{\n",
       "    x.observe(notebookContainer, {childList: true});\n",
       "}}\n",
       "\n",
       "// Listen for the clearing of the current output cell\n",
       "var outputEl = gd.closest('.output');\n",
       "if (outputEl) {{\n",
       "    x.observe(outputEl, {childList: true});\n",
       "}}\n",
       "\n",
       "                        })                };                });            </script>        </div>"
      ]
     },
     "metadata": {},
     "output_type": "display_data"
    }
   ],
   "source": [
    "# Using colorscale\n",
    "trace1 = go.Scatter(\n",
    "    y = np.random.randn(500),\n",
    "    mode='markers',\n",
    "    marker=dict(\n",
    "        size=16,\n",
    "        color = np.random.randn(500), #set color equal to a third variable\n",
    "        colorscale='Viridis',\n",
    "        showscale=True\n",
    "    )\n",
    ")\n",
    "data = [trace1]\n",
    "layout = go.Layout(\n",
    "    title = 'Random Data Scatterplot', # Graph title\n",
    "    xaxis = dict(title = 'Some random x-values'), # x-axis label\n",
    "    yaxis = dict(title = 'Some random y-values'), # y-axis label\n",
    "    hovermode ='closest' # handles multiple points landing on the same vertical\n",
    ")\n",
    "fig = go.Figure(data=data, layout=layout)\n",
    "fig.show()\n",
    "fig.write_html(\"scatterplot.html\")"
   ]
  },
  {
   "cell_type": "code",
   "execution_count": null,
   "id": "satellite-stress",
   "metadata": {},
   "outputs": [],
   "source": []
  }
 ],
 "metadata": {
  "kernelspec": {
   "display_name": "Python 3",
   "language": "python",
   "name": "python3"
  },
  "language_info": {
   "codemirror_mode": {
    "name": "ipython",
    "version": 3
   },
   "file_extension": ".py",
   "mimetype": "text/x-python",
   "name": "python",
   "nbconvert_exporter": "python",
   "pygments_lexer": "ipython3",
   "version": "3.8.2"
  }
 },
 "nbformat": 4,
 "nbformat_minor": 5
}
